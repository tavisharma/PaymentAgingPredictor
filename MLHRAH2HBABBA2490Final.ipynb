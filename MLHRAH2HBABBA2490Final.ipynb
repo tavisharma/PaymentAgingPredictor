{
  "nbformat": 4,
  "nbformat_minor": 0,
  "metadata": {
    "colab": {
      "name": "MLHRAH2HBABBA2490Final.ipynb",
      "provenance": [],
      "collapsed_sections": []
    },
    "kernelspec": {
      "display_name": "Python 3",
      "language": "python",
      "name": "python3"
    },
    "language_info": {
      "codemirror_mode": {
        "name": "ipython",
        "version": 3
      },
      "file_extension": ".py",
      "mimetype": "text/x-python",
      "name": "python",
      "nbconvert_exporter": "python",
      "pygments_lexer": "ipython3",
      "version": "3.8.8"
    }
  },
  "cells": [
    {
      "cell_type": "markdown",
      "metadata": {
        "id": "NxGgqlQHSrWB"
      },
      "source": [
        "#Name TAVISH SHARMA"
      ]
    },
    {
      "cell_type": "code",
      "metadata": {
        "colab": {
          "base_uri": "https://localhost:8080/"
        },
        "id": "sTHt8NsxN8xz",
        "outputId": "43bacb3e-00f3-4179-ad83-463796c32291"
      },
      "source": [
        "from google.colab import drive\n",
        "drive.mount('/content/drive')"
      ],
      "execution_count": null,
      "outputs": [
        {
          "output_type": "stream",
          "text": [
            "Mounted at /content/drive\n"
          ],
          "name": "stdout"
        }
      ]
    },
    {
      "cell_type": "code",
      "metadata": {
        "id": "UvLLAMYfcyjv"
      },
      "source": [
        "import warnings\n",
        "warnings.filterwarnings(\"ignore\")"
      ],
      "execution_count": null,
      "outputs": []
    },
    {
      "cell_type": "markdown",
      "metadata": {
        "id": "32sCC6ogS6Wk"
      },
      "source": [
        "##Input dataset"
      ]
    },
    {
      "cell_type": "code",
      "metadata": {
        "id": "VU-IFarKS96M"
      },
      "source": [
        "import pandas as pd\n",
        "f = pd.read_csv('/content/drive/MyDrive/HRC/H2HBABBA2490.csv')\n",
        "data = f"
      ],
      "execution_count": null,
      "outputs": []
    },
    {
      "cell_type": "markdown",
      "metadata": {
        "id": "MkWk41HPTLyC"
      },
      "source": [
        "**Initial Split**"
      ]
    },
    {
      "cell_type": "code",
      "metadata": {
        "id": "EI7cHoq-TIsj"
      },
      "source": [
        "testData = data[data.isOpen==1]#selecting the rows with isOpen=1 and creating main test set\n",
        "data = data[data.isOpen==0]#with isOpen=0\n",
        "data.drop(labels = ['isOpen'], inplace=True, axis = 1)#isOpen becomes a constant column so we drop it\n",
        "testData.drop(labels = ['isOpen'], inplace=True, axis = 1)#isOpen becomes a constant column so we drop it"
      ],
      "execution_count": null,
      "outputs": []
    },
    {
      "cell_type": "markdown",
      "metadata": {
        "id": "q0lTZS6MUmfa"
      },
      "source": [
        "##Preprocessing"
      ]
    },
    {
      "cell_type": "markdown",
      "metadata": {
        "id": "LxFDggp1VAtu"
      },
      "source": [
        "**Columns with NULL values**"
      ]
    },
    {
      "cell_type": "code",
      "metadata": {
        "colab": {
          "base_uri": "https://localhost:8080/"
        },
        "id": "-hiiQ-ozUKUk",
        "scrolled": true,
        "outputId": "b9d7896b-914c-47c4-9909-49665ee428e9"
      },
      "source": [
        "data.isna().sum()#printing the number of NULL values in each column"
      ],
      "execution_count": null,
      "outputs": [
        {
          "output_type": "execute_result",
          "data": {
            "text/plain": [
              "business_code                 0\n",
              "cust_number                   0\n",
              "name_customer                 0\n",
              "clear_date                    0\n",
              "buisness_year                 0\n",
              "doc_id                        0\n",
              "posting_date                  0\n",
              "document_create_date          0\n",
              "document_create_date.1        0\n",
              "due_in_date                   0\n",
              "invoice_currency              0\n",
              "document type                 0\n",
              "posting_id                    0\n",
              "area_business             40000\n",
              "total_open_amount             0\n",
              "baseline_create_date          0\n",
              "cust_payment_terms            0\n",
              "invoice_id                    1\n",
              "dtype: int64"
            ]
          },
          "metadata": {
            "tags": []
          },
          "execution_count": 5
        }
      ]
    },
    {
      "cell_type": "code",
      "metadata": {
        "id": "xTFIEaoPWHRo"
      },
      "source": [
        "data.drop(labels = ['area_business'], inplace = True, axis = 1)#area business contains null values throughout hence is dropped\n",
        "data = data[data.invoice_id.isnull()==False]#Only one row has null value hence we can drop it"
      ],
      "execution_count": null,
      "outputs": []
    },
    {
      "cell_type": "markdown",
      "metadata": {
        "id": "TtpKD3ISYhTd"
      },
      "source": [
        "**Constant Columns**"
      ]
    },
    {
      "cell_type": "code",
      "metadata": {
        "colab": {
          "base_uri": "https://localhost:8080/"
        },
        "id": "jROiLQlrXvcv",
        "outputId": "3f4685e4-3227-4cf7-f7f1-b9fd084f01b2"
      },
      "source": [
        "data.nunique()#printing number of unique values in each column"
      ],
      "execution_count": null,
      "outputs": [
        {
          "output_type": "execute_result",
          "data": {
            "text/plain": [
              "business_code                 6\n",
              "cust_number                1373\n",
              "name_customer              3931\n",
              "clear_date                  406\n",
              "buisness_year                 2\n",
              "doc_id                    39142\n",
              "posting_date                424\n",
              "document_create_date        427\n",
              "document_create_date.1      424\n",
              "due_in_date                 488\n",
              "invoice_currency              2\n",
              "document type                 1\n",
              "posting_id                    1\n",
              "total_open_amount         35642\n",
              "baseline_create_date        432\n",
              "cust_payment_terms           72\n",
              "invoice_id                39142\n",
              "dtype: int64"
            ]
          },
          "metadata": {
            "tags": []
          },
          "execution_count": 7
        }
      ]
    },
    {
      "cell_type": "code",
      "metadata": {
        "id": "jEHqswnjYKLE"
      },
      "source": [
        "data.drop(labels = ['document type','posting_id'],axis = 1, inplace = True)#both being constant columns we can drop these"
      ],
      "execution_count": null,
      "outputs": []
    },
    {
      "cell_type": "markdown",
      "metadata": {
        "id": "yzQ73h38a2yP"
      },
      "source": [
        "**Columns with very high Variance**"
      ]
    },
    {
      "cell_type": "code",
      "metadata": {
        "id": "InXdAOGza1XO"
      },
      "source": [
        "data.drop(labels = ['invoice_id','doc_id'],axis = 1, inplace=True)#invoice id and doc id both are primary keys hence dont add any value and can be dropped"
      ],
      "execution_count": null,
      "outputs": []
    },
    {
      "cell_type": "code",
      "metadata": {
        "colab": {
          "base_uri": "https://localhost:8080/"
        },
        "id": "PuMZq1HrY2EB",
        "outputId": "b975aa0b-e446-4776-a68d-da3db868e2de"
      },
      "source": [
        "data.nunique()"
      ],
      "execution_count": null,
      "outputs": [
        {
          "output_type": "execute_result",
          "data": {
            "text/plain": [
              "business_code                 6\n",
              "cust_number                1373\n",
              "name_customer              3931\n",
              "clear_date                  406\n",
              "buisness_year                 2\n",
              "posting_date                424\n",
              "document_create_date        427\n",
              "document_create_date.1      424\n",
              "due_in_date                 488\n",
              "invoice_currency              2\n",
              "total_open_amount         35642\n",
              "baseline_create_date        432\n",
              "cust_payment_terms           72\n",
              "dtype: int64"
            ]
          },
          "metadata": {
            "tags": []
          },
          "execution_count": 10
        }
      ]
    },
    {
      "cell_type": "markdown",
      "metadata": {
        "id": "QnYhOCjwZDPh"
      },
      "source": [
        "**Date Conversion**"
      ]
    },
    {
      "cell_type": "code",
      "metadata": {
        "id": "Me435AqCY4sZ"
      },
      "source": [
        "#changing date columns from string to date format\n",
        "data['baseline_create_date']= pd.to_datetime(data['baseline_create_date'],format =\"%Y%m%d\")\n",
        "data['document_create_date']= pd.to_datetime(data['document_create_date.1'],format =\"%Y%m%d\")\n",
        "data.drop(labels = ['document_create_date.1'], axis =1, inplace = True)\n",
        "data['due_in_date']= pd.to_datetime(data['due_in_date'],format =\"%Y%m%d\")\n",
        "data['posting_date']= pd.to_datetime(data['posting_date'],format =\"%Y-%m-%d\")\n",
        "data['clear_date'] = pd.to_datetime(data.clear_date)"
      ],
      "execution_count": null,
      "outputs": []
    },
    {
      "cell_type": "code",
      "metadata": {
        "colab": {
          "base_uri": "https://localhost:8080/"
        },
        "id": "FhsGSMUVZcHQ",
        "outputId": "6329fc09-0903-4f46-f4ff-a3fbdf7fae0c"
      },
      "source": [
        "data.info()"
      ],
      "execution_count": null,
      "outputs": [
        {
          "output_type": "stream",
          "text": [
            "<class 'pandas.core.frame.DataFrame'>\n",
            "Int64Index: 39999 entries, 0 to 49999\n",
            "Data columns (total 12 columns):\n",
            " #   Column                Non-Null Count  Dtype         \n",
            "---  ------                --------------  -----         \n",
            " 0   business_code         39999 non-null  object        \n",
            " 1   cust_number           39999 non-null  object        \n",
            " 2   name_customer         39999 non-null  object        \n",
            " 3   clear_date            39999 non-null  datetime64[ns]\n",
            " 4   buisness_year         39999 non-null  float64       \n",
            " 5   posting_date          39999 non-null  datetime64[ns]\n",
            " 6   document_create_date  39999 non-null  datetime64[ns]\n",
            " 7   due_in_date           39999 non-null  datetime64[ns]\n",
            " 8   invoice_currency      39999 non-null  object        \n",
            " 9   total_open_amount     39999 non-null  float64       \n",
            " 10  baseline_create_date  39999 non-null  datetime64[ns]\n",
            " 11  cust_payment_terms    39999 non-null  object        \n",
            "dtypes: datetime64[ns](5), float64(2), object(5)\n",
            "memory usage: 4.0+ MB\n"
          ],
          "name": "stdout"
        }
      ]
    },
    {
      "cell_type": "markdown",
      "metadata": {
        "id": "VInLJdjrZo2o"
      },
      "source": [
        "**Sorting Based on Posting date**"
      ]
    },
    {
      "cell_type": "code",
      "metadata": {
        "id": "jSuaegcQZgzL"
      },
      "source": [
        "data = data.sort_values(by='posting_date')#sorting is done for properly segeregating test train and validation dataset"
      ],
      "execution_count": null,
      "outputs": []
    },
    {
      "cell_type": "markdown",
      "metadata": {
        "id": "KdulgiMFcQ7Z"
      },
      "source": [
        "**Creating target column**"
      ]
    },
    {
      "cell_type": "code",
      "metadata": {
        "colab": {
          "base_uri": "https://localhost:8080/",
          "height": 417
        },
        "id": "roq34T1WcYbj",
        "outputId": "1e8c4381-7c9f-4acb-cc65-7955b043f931"
      },
      "source": [
        "data['ageing'] = data.clear_date - data.due_in_date #ageing here is our target column which denotes the delay in the due payment\n",
        "y = data['ageing']\n",
        "y = pd.DataFrame(y,columns = ['ageing'])\n",
        "data.drop(labels = ['ageing'],axis = 1, inplace = True)\n",
        "y['ageing'] = y['ageing'].dt.days.astype('int64')\n",
        "y"
      ],
      "execution_count": null,
      "outputs": [
        {
          "output_type": "execute_result",
          "data": {
            "text/html": [
              "<div>\n",
              "<style scoped>\n",
              "    .dataframe tbody tr th:only-of-type {\n",
              "        vertical-align: middle;\n",
              "    }\n",
              "\n",
              "    .dataframe tbody tr th {\n",
              "        vertical-align: top;\n",
              "    }\n",
              "\n",
              "    .dataframe thead th {\n",
              "        text-align: right;\n",
              "    }\n",
              "</style>\n",
              "<table border=\"1\" class=\"dataframe\">\n",
              "  <thead>\n",
              "    <tr style=\"text-align: right;\">\n",
              "      <th></th>\n",
              "      <th>ageing</th>\n",
              "    </tr>\n",
              "  </thead>\n",
              "  <tbody>\n",
              "    <tr>\n",
              "      <th>6944</th>\n",
              "      <td>6</td>\n",
              "    </tr>\n",
              "    <tr>\n",
              "      <th>19131</th>\n",
              "      <td>-5</td>\n",
              "    </tr>\n",
              "    <tr>\n",
              "      <th>19781</th>\n",
              "      <td>-5</td>\n",
              "    </tr>\n",
              "    <tr>\n",
              "      <th>48906</th>\n",
              "      <td>-5</td>\n",
              "    </tr>\n",
              "    <tr>\n",
              "      <th>15768</th>\n",
              "      <td>-5</td>\n",
              "    </tr>\n",
              "    <tr>\n",
              "      <th>...</th>\n",
              "      <td>...</td>\n",
              "    </tr>\n",
              "    <tr>\n",
              "      <th>24089</th>\n",
              "      <td>0</td>\n",
              "    </tr>\n",
              "    <tr>\n",
              "      <th>15072</th>\n",
              "      <td>-1</td>\n",
              "    </tr>\n",
              "    <tr>\n",
              "      <th>37991</th>\n",
              "      <td>0</td>\n",
              "    </tr>\n",
              "    <tr>\n",
              "      <th>11684</th>\n",
              "      <td>-1</td>\n",
              "    </tr>\n",
              "    <tr>\n",
              "      <th>41943</th>\n",
              "      <td>-1</td>\n",
              "    </tr>\n",
              "  </tbody>\n",
              "</table>\n",
              "<p>39999 rows × 1 columns</p>\n",
              "</div>"
            ],
            "text/plain": [
              "       ageing\n",
              "6944        6\n",
              "19131      -5\n",
              "19781      -5\n",
              "48906      -5\n",
              "15768      -5\n",
              "...       ...\n",
              "24089       0\n",
              "15072      -1\n",
              "37991       0\n",
              "11684      -1\n",
              "41943      -1\n",
              "\n",
              "[39999 rows x 1 columns]"
            ]
          },
          "metadata": {
            "tags": []
          },
          "execution_count": 14
        }
      ]
    },
    {
      "cell_type": "markdown",
      "metadata": {
        "id": "JOC3XCLBaQun"
      },
      "source": [
        "**Splitting Data**"
      ]
    },
    {
      "cell_type": "code",
      "metadata": {
        "id": "o4JW7E5xZ0o4"
      },
      "source": [
        "from sklearn.model_selection import train_test_split\n",
        "\n",
        "xTrain, xTest, yTrain, yTest = train_test_split(data,y,test_size = 0.2, shuffle = False, random_state = 0)#using test train split to split into train set and temporary data\n",
        "xVal , xTest, yVal , yTest = train_test_split(xTest,yTest, test_size = 0.5, shuffle = False, random_state = 0) #the temporary data is now split 50-50 into test and train dataset"
      ],
      "execution_count": null,
      "outputs": []
    },
    {
      "cell_type": "code",
      "metadata": {
        "colab": {
          "base_uri": "https://localhost:8080/",
          "height": 504
        },
        "id": "fX2pBLz9fl6e",
        "outputId": "5ce1837a-c554-4cf1-fed7-55b349bcc92d"
      },
      "source": [
        "xTrain"
      ],
      "execution_count": null,
      "outputs": [
        {
          "output_type": "execute_result",
          "data": {
            "text/html": [
              "<div>\n",
              "<style scoped>\n",
              "    .dataframe tbody tr th:only-of-type {\n",
              "        vertical-align: middle;\n",
              "    }\n",
              "\n",
              "    .dataframe tbody tr th {\n",
              "        vertical-align: top;\n",
              "    }\n",
              "\n",
              "    .dataframe thead th {\n",
              "        text-align: right;\n",
              "    }\n",
              "</style>\n",
              "<table border=\"1\" class=\"dataframe\">\n",
              "  <thead>\n",
              "    <tr style=\"text-align: right;\">\n",
              "      <th></th>\n",
              "      <th>business_code</th>\n",
              "      <th>cust_number</th>\n",
              "      <th>name_customer</th>\n",
              "      <th>clear_date</th>\n",
              "      <th>buisness_year</th>\n",
              "      <th>posting_date</th>\n",
              "      <th>document_create_date</th>\n",
              "      <th>due_in_date</th>\n",
              "      <th>invoice_currency</th>\n",
              "      <th>total_open_amount</th>\n",
              "      <th>baseline_create_date</th>\n",
              "      <th>cust_payment_terms</th>\n",
              "    </tr>\n",
              "  </thead>\n",
              "  <tbody>\n",
              "    <tr>\n",
              "      <th>6944</th>\n",
              "      <td>CA02</td>\n",
              "      <td>0140105785</td>\n",
              "      <td>SHOPPE</td>\n",
              "      <td>2019-01-18</td>\n",
              "      <td>2019.0</td>\n",
              "      <td>2018-12-30</td>\n",
              "      <td>2018-12-30</td>\n",
              "      <td>2019-01-12</td>\n",
              "      <td>CAD</td>\n",
              "      <td>36208.89</td>\n",
              "      <td>2019-01-02</td>\n",
              "      <td>CA10</td>\n",
              "    </tr>\n",
              "    <tr>\n",
              "      <th>19131</th>\n",
              "      <td>U001</td>\n",
              "      <td>0200769623</td>\n",
              "      <td>WAL-MAR llc</td>\n",
              "      <td>2019-01-09</td>\n",
              "      <td>2019.0</td>\n",
              "      <td>2018-12-30</td>\n",
              "      <td>2018-12-30</td>\n",
              "      <td>2019-01-14</td>\n",
              "      <td>USD</td>\n",
              "      <td>756.28</td>\n",
              "      <td>2018-12-30</td>\n",
              "      <td>NAH4</td>\n",
              "    </tr>\n",
              "    <tr>\n",
              "      <th>19781</th>\n",
              "      <td>U001</td>\n",
              "      <td>0200769623</td>\n",
              "      <td>WAL-MAR corporation</td>\n",
              "      <td>2019-01-09</td>\n",
              "      <td>2019.0</td>\n",
              "      <td>2018-12-30</td>\n",
              "      <td>2018-12-30</td>\n",
              "      <td>2019-01-14</td>\n",
              "      <td>USD</td>\n",
              "      <td>27644.43</td>\n",
              "      <td>2018-12-30</td>\n",
              "      <td>NAH4</td>\n",
              "    </tr>\n",
              "    <tr>\n",
              "      <th>48906</th>\n",
              "      <td>U001</td>\n",
              "      <td>0200769623</td>\n",
              "      <td>WAL-MAR associates</td>\n",
              "      <td>2019-01-09</td>\n",
              "      <td>2019.0</td>\n",
              "      <td>2018-12-30</td>\n",
              "      <td>2018-12-30</td>\n",
              "      <td>2019-01-14</td>\n",
              "      <td>USD</td>\n",
              "      <td>20983.47</td>\n",
              "      <td>2018-12-30</td>\n",
              "      <td>NAH4</td>\n",
              "    </tr>\n",
              "    <tr>\n",
              "      <th>15768</th>\n",
              "      <td>U001</td>\n",
              "      <td>0200769623</td>\n",
              "      <td>WAL-MAR llc</td>\n",
              "      <td>2019-01-09</td>\n",
              "      <td>2019.0</td>\n",
              "      <td>2018-12-30</td>\n",
              "      <td>2018-12-30</td>\n",
              "      <td>2019-01-14</td>\n",
              "      <td>USD</td>\n",
              "      <td>36272.16</td>\n",
              "      <td>2018-12-30</td>\n",
              "      <td>NAH4</td>\n",
              "    </tr>\n",
              "    <tr>\n",
              "      <th>...</th>\n",
              "      <td>...</td>\n",
              "      <td>...</td>\n",
              "      <td>...</td>\n",
              "      <td>...</td>\n",
              "      <td>...</td>\n",
              "      <td>...</td>\n",
              "      <td>...</td>\n",
              "      <td>...</td>\n",
              "      <td>...</td>\n",
              "      <td>...</td>\n",
              "      <td>...</td>\n",
              "      <td>...</td>\n",
              "    </tr>\n",
              "    <tr>\n",
              "      <th>22550</th>\n",
              "      <td>U002</td>\n",
              "      <td>0200978592</td>\n",
              "      <td>PLAZA corporation</td>\n",
              "      <td>2019-12-30</td>\n",
              "      <td>2019.0</td>\n",
              "      <td>2019-11-19</td>\n",
              "      <td>2019-11-19</td>\n",
              "      <td>2019-12-24</td>\n",
              "      <td>USD</td>\n",
              "      <td>18603.16</td>\n",
              "      <td>2019-11-19</td>\n",
              "      <td>NAG2</td>\n",
              "    </tr>\n",
              "    <tr>\n",
              "      <th>36386</th>\n",
              "      <td>U001</td>\n",
              "      <td>0200726979</td>\n",
              "      <td>BJ'S  foundation</td>\n",
              "      <td>2019-12-04</td>\n",
              "      <td>2019.0</td>\n",
              "      <td>2019-11-19</td>\n",
              "      <td>2019-11-19</td>\n",
              "      <td>2019-12-04</td>\n",
              "      <td>USD</td>\n",
              "      <td>554.68</td>\n",
              "      <td>2019-11-19</td>\n",
              "      <td>NAA8</td>\n",
              "    </tr>\n",
              "    <tr>\n",
              "      <th>4629</th>\n",
              "      <td>U001</td>\n",
              "      <td>0200793568</td>\n",
              "      <td>SUPE</td>\n",
              "      <td>2019-12-04</td>\n",
              "      <td>2019.0</td>\n",
              "      <td>2019-11-19</td>\n",
              "      <td>2019-11-19</td>\n",
              "      <td>2019-12-04</td>\n",
              "      <td>USD</td>\n",
              "      <td>10051.86</td>\n",
              "      <td>2019-11-19</td>\n",
              "      <td>NAA8</td>\n",
              "    </tr>\n",
              "    <tr>\n",
              "      <th>32416</th>\n",
              "      <td>CA02</td>\n",
              "      <td>0140104249</td>\n",
              "      <td>SOB corp</td>\n",
              "      <td>2019-12-11</td>\n",
              "      <td>2019.0</td>\n",
              "      <td>2019-11-19</td>\n",
              "      <td>2019-11-19</td>\n",
              "      <td>2019-12-07</td>\n",
              "      <td>CAD</td>\n",
              "      <td>14913.10</td>\n",
              "      <td>2019-11-27</td>\n",
              "      <td>CA10</td>\n",
              "    </tr>\n",
              "    <tr>\n",
              "      <th>40243</th>\n",
              "      <td>U001</td>\n",
              "      <td>0200772595</td>\n",
              "      <td>SAFEW associates</td>\n",
              "      <td>2019-12-04</td>\n",
              "      <td>2019.0</td>\n",
              "      <td>2019-11-19</td>\n",
              "      <td>2019-11-19</td>\n",
              "      <td>2019-12-04</td>\n",
              "      <td>USD</td>\n",
              "      <td>17977.71</td>\n",
              "      <td>2019-11-19</td>\n",
              "      <td>NAA8</td>\n",
              "    </tr>\n",
              "  </tbody>\n",
              "</table>\n",
              "<p>31999 rows × 12 columns</p>\n",
              "</div>"
            ],
            "text/plain": [
              "      business_code cust_number  ... baseline_create_date cust_payment_terms\n",
              "6944           CA02  0140105785  ...           2019-01-02               CA10\n",
              "19131          U001  0200769623  ...           2018-12-30               NAH4\n",
              "19781          U001  0200769623  ...           2018-12-30               NAH4\n",
              "48906          U001  0200769623  ...           2018-12-30               NAH4\n",
              "15768          U001  0200769623  ...           2018-12-30               NAH4\n",
              "...             ...         ...  ...                  ...                ...\n",
              "22550          U002  0200978592  ...           2019-11-19               NAG2\n",
              "36386          U001  0200726979  ...           2019-11-19               NAA8\n",
              "4629           U001  0200793568  ...           2019-11-19               NAA8\n",
              "32416          CA02  0140104249  ...           2019-11-27               CA10\n",
              "40243          U001  0200772595  ...           2019-11-19               NAA8\n",
              "\n",
              "[31999 rows x 12 columns]"
            ]
          },
          "metadata": {
            "tags": []
          },
          "execution_count": 16
        }
      ]
    },
    {
      "cell_type": "markdown",
      "metadata": {
        "id": "pMtFrj52kIVF"
      },
      "source": [
        "##EDA"
      ]
    },
    {
      "cell_type": "code",
      "metadata": {
        "colab": {
          "base_uri": "https://localhost:8080/",
          "height": 282
        },
        "id": "aRYHAoZQghk6",
        "outputId": "28a4a51a-6438-4e8a-fa17-3a9905561fed"
      },
      "source": [
        "import seaborn as sns\n",
        "\n",
        "sns.distplot(yTrain)#this plot shows us that the data we has no skewness and the presence of outliers is very less"
      ],
      "execution_count": null,
      "outputs": [
        {
          "output_type": "execute_result",
          "data": {
            "text/plain": [
              "<matplotlib.axes._subplots.AxesSubplot at 0x7f35b513f990>"
            ]
          },
          "metadata": {
            "tags": []
          },
          "execution_count": 17
        },
        {
          "output_type": "display_data",
          "data": {
            "image/png": "[encoded data removed]",
            "text/plain": [
              "<Figure size 432x288 with 1 Axes>"
            ]
          },
          "metadata": {
            "tags": [],
            "needs_background": "light"
          }
        }
      ]
    },
    {
      "cell_type": "code",
      "metadata": {
        "colab": {
          "base_uri": "https://localhost:8080/",
          "height": 297
        },
        "id": "EIBSH6hNiuAH",
        "outputId": "ad5f7d7f-981e-4381-c900-0714d8dc61a7"
      },
      "source": [
        "sns.distplot(xTrain.buisness_year)"
      ],
      "execution_count": null,
      "outputs": [
        {
          "output_type": "execute_result",
          "data": {
            "text/plain": [
              "<matplotlib.axes._subplots.AxesSubplot at 0x7f35aa067950>"
            ]
          },
          "metadata": {
            "tags": []
          },
          "execution_count": 18
        },
        {
          "output_type": "display_data",
          "data": {
            "image/png": "[encoded data removed]",
            "text/plain": [
              "<Figure size 432x288 with 1 Axes>"
            ]
          },
          "metadata": {
            "tags": [],
            "needs_background": "light"
          }
        }
      ]
    },
    {
      "cell_type": "code",
      "metadata": {
        "id": "IDnAjj_zkbx2"
      },
      "source": [
        "xTrain.drop(labels = ['buisness_year'], axis = 1, inplace = True)#buisness year is a constant column and hence dropped\n",
        "xTest.drop(labels = ['buisness_year'], axis = 1, inplace = True)#same as previous step\n",
        "xVal.drop(labels = ['buisness_year'], axis = 1, inplace = True)#same as previous step"
      ],
      "execution_count": null,
      "outputs": []
    },
    {
      "cell_type": "code",
      "metadata": {
        "colab": {
          "base_uri": "https://localhost:8080/",
          "height": 297
        },
        "id": "J-qxqqyQlXG0",
        "outputId": "95749ca8-3ec1-489b-d64c-00bba87f56e1"
      },
      "source": [
        "temp = xTrain.merge(yTrain, on = xTrain.index)\n",
        "temp.plot(kind='scatter', y='ageing', x='total_open_amount')#this plot shows us that with less open amount the delays can be high whereas for high amounts its is near the due date"
      ],
      "execution_count": null,
      "outputs": [
        {
          "output_type": "execute_result",
          "data": {
            "text/plain": [
              "<matplotlib.axes._subplots.AxesSubplot at 0x7f35a9a7c550>"
            ]
          },
          "metadata": {
            "tags": []
          },
          "execution_count": 20
        },
        {
          "output_type": "display_data",
          "data": {
            "image/png": "[encoded data removed]",
            "text/plain": [
              "<Figure size 432x288 with 1 Axes>"
            ]
          },
          "metadata": {
            "tags": [],
            "needs_background": "light"
          }
        }
      ]
    },
    {
      "cell_type": "code",
      "metadata": {
        "colab": {
          "base_uri": "https://localhost:8080/",
          "height": 297
        },
        "id": "M_SQdo4goRco",
        "outputId": "0be54c68-9874-4fbe-d6a9-8239220b0506"
      },
      "source": [
        "temp.plot(kind='scatter', x='invoice_currency', y='ageing')#we have more obervation with usd currency than cad also ageing varies more on usd based rows "
      ],
      "execution_count": null,
      "outputs": [
        {
          "output_type": "execute_result",
          "data": {
            "text/plain": [
              "<matplotlib.axes._subplots.AxesSubplot at 0x7f35a9a6aa10>"
            ]
          },
          "metadata": {
            "tags": []
          },
          "execution_count": 21
        },
        {
          "output_type": "display_data",
          "data": {
            "image/png": "[encoded data removed]",
            "text/plain": [
              "<Figure size 432x288 with 1 Axes>"
            ]
          },
          "metadata": {
            "tags": [],
            "needs_background": "light"
          }
        }
      ]
    },
    {
      "cell_type": "code",
      "metadata": {
        "colab": {
          "base_uri": "https://localhost:8080/",
          "height": 297
        },
        "id": "d1pr0OoUpEyZ",
        "outputId": "3302481b-8854-4671-8182-361bcaef7b84"
      },
      "source": [
        "temp.plot(kind='scatter', x='name_customer', y='ageing')#customer name may be an important feature"
      ],
      "execution_count": null,
      "outputs": [
        {
          "output_type": "execute_result",
          "data": {
            "text/plain": [
              "<matplotlib.axes._subplots.AxesSubplot at 0x7f35b48f9110>"
            ]
          },
          "metadata": {
            "tags": []
          },
          "execution_count": 22
        },
        {
          "output_type": "display_data",
          "data": {
            "image/png": "[encoded data removed]",
            "text/plain": [
              "<Figure size 432x288 with 1 Axes>"
            ]
          },
          "metadata": {
            "tags": [],
            "needs_background": "light"
          }
        }
      ]
    },
    {
      "cell_type": "code",
      "metadata": {
        "colab": {
          "base_uri": "https://localhost:8080/",
          "height": 297
        },
        "id": "0B6R7jJIpcor",
        "outputId": "e9d1adab-9de1-4947-ee86-b1b1ca0afc58"
      },
      "source": [
        "temp.plot(kind='scatter', x='cust_number', y='ageing')#customernumber has a nearly identical delay habits with a few exceptions"
      ],
      "execution_count": null,
      "outputs": [
        {
          "output_type": "execute_result",
          "data": {
            "text/plain": [
              "<matplotlib.axes._subplots.AxesSubplot at 0x7f35a7ba7550>"
            ]
          },
          "metadata": {
            "tags": []
          },
          "execution_count": 23
        },
        {
          "output_type": "display_data",
          "data": {
            "image/png": "[encoded data removed]",
            "text/plain": [
              "<Figure size 432x288 with 1 Axes>"
            ]
          },
          "metadata": {
            "tags": [],
            "needs_background": "light"
          }
        }
      ]
    },
    {
      "cell_type": "code",
      "metadata": {
        "colab": {
          "base_uri": "https://localhost:8080/",
          "height": 297
        },
        "id": "2rWiK-Y4qb1B",
        "outputId": "a38a633c-bf21-44a8-8437-5fbbf709a092"
      },
      "source": [
        "temp.plot(kind='scatter', x='cust_payment_terms', y='ageing')#payment term greatky influences the delay as most are concentrated on same point with few exceptions"
      ],
      "execution_count": null,
      "outputs": [
        {
          "output_type": "execute_result",
          "data": {
            "text/plain": [
              "<matplotlib.axes._subplots.AxesSubplot at 0x7f35a6675190>"
            ]
          },
          "metadata": {
            "tags": []
          },
          "execution_count": 24
        },
        {
          "output_type": "display_data",
          "data": {
            "image/png": "[encoded data removed]",
            "text/plain": [
              "<Figure size 432x288 with 1 Axes>"
            ]
          },
          "metadata": {
            "tags": [],
            "needs_background": "light"
          }
        }
      ]
    },
    {
      "cell_type": "code",
      "metadata": {
        "colab": {
          "base_uri": "https://localhost:8080/",
          "height": 297
        },
        "id": "lwOnZBEIrBZn",
        "outputId": "61eec24b-4858-40fb-9c25-9c1704bbc1c4"
      },
      "source": [
        "temp.plot(kind='scatter', x='business_code', y='ageing')#business code has no effect on the delay as it is widely spread as seen here "
      ],
      "execution_count": null,
      "outputs": [
        {
          "output_type": "execute_result",
          "data": {
            "text/plain": [
              "<matplotlib.axes._subplots.AxesSubplot at 0x7f35a62b3410>"
            ]
          },
          "metadata": {
            "tags": []
          },
          "execution_count": 25
        },
        {
          "output_type": "display_data",
          "data": {
            "image/png": "[encoded data removed]",
            "text/plain": [
              "<Figure size 432x288 with 1 Axes>"
            ]
          },
          "metadata": {
            "tags": [],
            "needs_background": "light"
          }
        }
      ]
    },
    {
      "cell_type": "markdown",
      "metadata": {
        "id": "fHxu-nIHrstX"
      },
      "source": [
        "#Feature Engineering"
      ]
    },
    {
      "cell_type": "code",
      "metadata": {
        "colab": {
          "base_uri": "https://localhost:8080/"
        },
        "id": "TSnfXTMprVOZ",
        "outputId": "ff4cffec-e481-4e49-c8e6-7df39eb59bad"
      },
      "source": [
        "xTrain.info()#checking the features available and their type"
      ],
      "execution_count": null,
      "outputs": [
        {
          "output_type": "stream",
          "text": [
            "<class 'pandas.core.frame.DataFrame'>\n",
            "Int64Index: 31999 entries, 6944 to 40243\n",
            "Data columns (total 11 columns):\n",
            " #   Column                Non-Null Count  Dtype         \n",
            "---  ------                --------------  -----         \n",
            " 0   business_code         31999 non-null  object        \n",
            " 1   cust_number           31999 non-null  object        \n",
            " 2   name_customer         31999 non-null  object        \n",
            " 3   clear_date            31999 non-null  datetime64[ns]\n",
            " 4   posting_date          31999 non-null  datetime64[ns]\n",
            " 5   document_create_date  31999 non-null  datetime64[ns]\n",
            " 6   due_in_date           31999 non-null  datetime64[ns]\n",
            " 7   invoice_currency      31999 non-null  object        \n",
            " 8   total_open_amount     31999 non-null  float64       \n",
            " 9   baseline_create_date  31999 non-null  datetime64[ns]\n",
            " 10  cust_payment_terms    31999 non-null  object        \n",
            "dtypes: datetime64[ns](5), float64(1), object(5)\n",
            "memory usage: 2.9+ MB\n"
          ],
          "name": "stdout"
        }
      ]
    },
    {
      "cell_type": "markdown",
      "metadata": {
        "id": "dgNTtveoQMWV"
      },
      "source": [
        "**Date columns manipulation**"
      ]
    },
    {
      "cell_type": "code",
      "metadata": {
        "id": "WW8sCaDqO-6l"
      },
      "source": [
        "#extracting day month year and quater out of the datetime columns\n",
        "xTrain['postingDay'] = xTrain[\"posting_date\"].apply(lambda x: x.day)\n",
        "xTrain['postingMonth'] = xTrain[\"posting_date\"].apply(lambda x: x.month)\n",
        "xTrain['postingYear'] = xTrain[\"posting_date\"].apply(lambda x: x.year)\n",
        "xTrain['postingQuarter'] = xTrain['posting_date'].dt.quarter\n",
        "\n",
        "xTrain['CreateDay'] = xTrain[\"document_create_date\"].apply(lambda x: x.day)\n",
        "xTrain['CreateMonth'] = xTrain[\"document_create_date\"].apply(lambda x: x.month)\n",
        "xTrain['CreateYear'] = xTrain[\"document_create_date\"].apply(lambda x: x.year)\n",
        "xTrain['CreateQuarter'] = xTrain['document_create_date'].dt.quarter\n",
        "\n",
        "xTrain['dueDay'] = xTrain[\"due_in_date\"].apply(lambda x: x.day)\n",
        "xTrain['dueMonth'] = xTrain[\"due_in_date\"].apply(lambda x: x.month)\n",
        "xTrain['dueYear'] = xTrain[\"due_in_date\"].apply(lambda x: x.year)\n",
        "xTrain['dueQuarter'] = xTrain['due_in_date'].dt.quarter\n",
        "\n",
        "xTrain['baselineCreateDay'] = xTrain[\"baseline_create_date\"].apply(lambda x: x.day)\n",
        "xTrain['baselineCreateMonth'] = xTrain[\"baseline_create_date\"].apply(lambda x: x.month)\n",
        "xTrain['baselineCreateYear'] = xTrain[\"baseline_create_date\"].apply(lambda x: x.year)\n",
        "xTrain['baselineQuarter'] = xTrain['baseline_create_date'].dt.quarter\n",
        "\n",
        "xTrain.drop(labels = ['posting_date','document_create_date','due_in_date','baseline_create_date','clear_date'],axis = 1, inplace=True)\n",
        "#test\n",
        "xTest['postingDay'] = xTest[\"posting_date\"].apply(lambda x: x.day)\n",
        "xTest['postingMonth'] = xTest[\"posting_date\"].apply(lambda x: x.month)\n",
        "xTest['postingYear'] = xTest[\"posting_date\"].apply(lambda x: x.year)\n",
        "xTest['postingQuarter'] = xTest['posting_date'].dt.quarter\n",
        "\n",
        "xTest['CreateDay'] = xTest[\"document_create_date\"].apply(lambda x: x.day)\n",
        "xTest['CreateMonth'] = xTest[\"document_create_date\"].apply(lambda x: x.month)\n",
        "xTest['CreateYear'] = xTest[\"document_create_date\"].apply(lambda x: x.year)\n",
        "xTest['CreateQuarter'] = xTest['document_create_date'].dt.quarter\n",
        "\n",
        "xTest['dueDay'] = xTest[\"due_in_date\"].apply(lambda x: x.day)\n",
        "xTest['dueMonth'] = xTest[\"due_in_date\"].apply(lambda x: x.month)\n",
        "xTest['dueYear'] = xTest[\"due_in_date\"].apply(lambda x: x.year)\n",
        "xTest['dueQuarter'] = xTest['due_in_date'].dt.quarter\n",
        "\n",
        "xTest['baselineCreateDay'] = xTest[\"baseline_create_date\"].apply(lambda x: x.day)\n",
        "xTest['baselineCreateMonth'] = xTest[\"baseline_create_date\"].apply(lambda x: x.month)\n",
        "xTest['baselineCreateYear'] = xTest[\"baseline_create_date\"].apply(lambda x: x.year)\n",
        "xTest['baselineQuarter'] = xTest['baseline_create_date'].dt.quarter\n",
        "\n",
        "xTest.drop(labels = ['posting_date','document_create_date','due_in_date','baseline_create_date','clear_date'],axis = 1, inplace=True)\n",
        "\n",
        "#Validation\n",
        "xVal['postingDay'] = xVal[\"posting_date\"].apply(lambda x: x.day)\n",
        "xVal['postingMonth'] = xVal[\"posting_date\"].apply(lambda x: x.month)\n",
        "xVal['postingYear'] = xVal[\"posting_date\"].apply(lambda x: x.year)\n",
        "xVal['postingQuarter'] = xVal['posting_date'].dt.quarter\n",
        "\n",
        "xVal['CreateDay'] = xVal[\"document_create_date\"].apply(lambda x: x.day)\n",
        "xVal['CreateMonth'] = xVal[\"document_create_date\"].apply(lambda x: x.month)\n",
        "xVal['CreateYear'] = xVal[\"document_create_date\"].apply(lambda x: x.year)\n",
        "xVal['CreateQuarter'] = xVal['document_create_date'].dt.quarter\n",
        "\n",
        "xVal['dueDay'] = xVal[\"due_in_date\"].apply(lambda x: x.day)\n",
        "xVal['dueMonth'] = xVal[\"due_in_date\"].apply(lambda x: x.month)\n",
        "xVal['dueYear'] = xVal[\"due_in_date\"].apply(lambda x: x.year)\n",
        "xVal['dueQuarter'] = xVal['due_in_date'].dt.quarter\n",
        "\n",
        "xVal['baselineCreateDay'] = xVal[\"baseline_create_date\"].apply(lambda x: x.day)\n",
        "xVal['baselineCreateMonth'] = xVal[\"baseline_create_date\"].apply(lambda x: x.month)\n",
        "xVal['baselineCreateYear'] = xVal[\"baseline_create_date\"].apply(lambda x: x.year)\n",
        "xVal['baselineQuarter'] = xVal['baseline_create_date'].dt.quarter\n",
        "\n",
        "xVal.drop(labels = ['posting_date','document_create_date','due_in_date','baseline_create_date','clear_date'],axis = 1, inplace=True)"
      ],
      "execution_count": null,
      "outputs": []
    },
    {
      "cell_type": "code",
      "metadata": {
        "colab": {
          "base_uri": "https://localhost:8080/"
        },
        "id": "LKFsD10zds46",
        "outputId": "be9d7a12-3ca1-4f0b-a10e-411e5e45a1a7"
      },
      "source": [
        "xTrain.info(), xTest.nunique()"
      ],
      "execution_count": null,
      "outputs": [
        {
          "output_type": "stream",
          "text": [
            "<class 'pandas.core.frame.DataFrame'>\n",
            "Int64Index: 31999 entries, 6944 to 40243\n",
            "Data columns (total 22 columns):\n",
            " #   Column               Non-Null Count  Dtype  \n",
            "---  ------               --------------  -----  \n",
            " 0   business_code        31999 non-null  object \n",
            " 1   cust_number          31999 non-null  object \n",
            " 2   name_customer        31999 non-null  object \n",
            " 3   invoice_currency     31999 non-null  object \n",
            " 4   total_open_amount    31999 non-null  float64\n",
            " 5   cust_payment_terms   31999 non-null  object \n",
            " 6   postingDay           31999 non-null  int64  \n",
            " 7   postingMonth         31999 non-null  int64  \n",
            " 8   postingYear          31999 non-null  int64  \n",
            " 9   postingQuarter       31999 non-null  int64  \n",
            " 10  CreateDay            31999 non-null  int64  \n",
            " 11  CreateMonth          31999 non-null  int64  \n",
            " 12  CreateYear           31999 non-null  int64  \n",
            " 13  CreateQuarter        31999 non-null  int64  \n",
            " 14  dueDay               31999 non-null  int64  \n",
            " 15  dueMonth             31999 non-null  int64  \n",
            " 16  dueYear              31999 non-null  int64  \n",
            " 17  dueQuarter           31999 non-null  int64  \n",
            " 18  baselineCreateDay    31999 non-null  int64  \n",
            " 19  baselineCreateMonth  31999 non-null  int64  \n",
            " 20  baselineCreateYear   31999 non-null  int64  \n",
            " 21  baselineQuarter      31999 non-null  int64  \n",
            "dtypes: float64(1), int64(16), object(5)\n",
            "memory usage: 5.6+ MB\n"
          ],
          "name": "stdout"
        },
        {
          "output_type": "execute_result",
          "data": {
            "text/plain": [
              "(None, business_code             5\n",
              " cust_number             452\n",
              " name_customer          1245\n",
              " invoice_currency          2\n",
              " total_open_amount      3731\n",
              " cust_payment_terms       40\n",
              " postingDay               31\n",
              " postingMonth              2\n",
              " postingYear               1\n",
              " postingQuarter            1\n",
              " CreateDay                31\n",
              " CreateMonth               2\n",
              " CreateYear                1\n",
              " CreateQuarter             1\n",
              " dueDay                   31\n",
              " dueMonth                  7\n",
              " dueYear                   2\n",
              " dueQuarter                3\n",
              " baselineCreateDay        31\n",
              " baselineCreateMonth       4\n",
              " baselineCreateYear        2\n",
              " baselineQuarter           2\n",
              " dtype: int64)"
            ]
          },
          "metadata": {
            "tags": []
          },
          "execution_count": 28
        }
      ]
    },
    {
      "cell_type": "markdown",
      "metadata": {
        "id": "6JoTifHBeH8f"
      },
      "source": [
        "**Encoding features**"
      ]
    },
    {
      "cell_type": "code",
      "metadata": {
        "id": "_8k6te0id1e1"
      },
      "source": [
        "#encoding the non integer data types\n",
        "from sklearn.preprocessing import LabelEncoder, OrdinalEncoder\n",
        "\n",
        "\n",
        "businessCodeEnc = LabelEncoder()\n",
        "businessCodeEnc.fit(xTrain['business_code'])\n",
        "\n",
        "xTrain['business_code'] = businessCodeEnc.transform(xTrain['business_code'])\n",
        "xTest['business_code'] = businessCodeEnc.transform(xTest['business_code'])\n",
        "xVal['business_code'] = businessCodeEnc.transform(xVal['business_code'])"
      ],
      "execution_count": null,
      "outputs": []
    },
    {
      "cell_type": "code",
      "metadata": {
        "id": "cCLrx9S-fVRc"
      },
      "source": [
        "#invoice curency contains only two categories and hence can be one hot encoded\n",
        "xTrain = pd.concat([xTrain,pd.get_dummies(xTrain['invoice_currency'], prefix='invoice_currency')],axis=1)\n",
        "xVal = pd.concat([xVal,pd.get_dummies(xVal['invoice_currency'], prefix='invoice_currency')],axis=1)\n",
        "xTest = pd.concat([xTest,pd.get_dummies(xTest['invoice_currency'], prefix='invoice_currency')],axis=1)\n",
        "\n",
        "xTrain.drop(labels = ['invoice_currency'],axis = 1, inplace=True)\n",
        "xTest.drop(labels = ['invoice_currency'],axis = 1, inplace=True)\n",
        "xVal.drop(labels = ['invoice_currency'],axis = 1, inplace=True)"
      ],
      "execution_count": null,
      "outputs": []
    },
    {
      "cell_type": "code",
      "metadata": {
        "id": "-2JGB7rafw9p"
      },
      "source": [
        "paymentTermsEnc = LabelEncoder()\n",
        "paymentTermsEnc.fit(data['cust_payment_terms'])\n",
        "\n",
        "xTrain['cust_payment_terms'] = paymentTermsEnc.transform(xTrain['cust_payment_terms'])\n",
        "xTest['cust_payment_terms'] = paymentTermsEnc.transform(xTest['cust_payment_terms'])\n",
        "xVal['cust_payment_terms'] = paymentTermsEnc.transform(xVal['cust_payment_terms'])"
      ],
      "execution_count": null,
      "outputs": []
    },
    {
      "cell_type": "code",
      "metadata": {
        "id": "5b0wqA-RhGMc"
      },
      "source": [
        "customerNameEnc = LabelEncoder()\n",
        "customerNameEnc.fit(data['name_customer'])\n",
        "\n",
        "xTrain['name_customer'] = customerNameEnc.transform(xTrain['name_customer'])\n",
        "xTest['name_customer'] = customerNameEnc.transform(xTest['name_customer'])\n",
        "xVal['name_customer'] = customerNameEnc.transform(xVal['name_customer'])"
      ],
      "execution_count": null,
      "outputs": []
    },
    {
      "cell_type": "code",
      "metadata": {
        "id": "eue7QHfdhzsR"
      },
      "source": [
        "CustomerNumberEnc = LabelEncoder()\n",
        "CustomerNumberEnc.fit(data['cust_number'])\n",
        "\n",
        "xTrain['cust_number'] = CustomerNumberEnc.transform(xTrain['cust_number'])\n",
        "xTest['cust_number'] = CustomerNumberEnc.transform(xTest['cust_number'])\n",
        "xVal['cust_number'] = CustomerNumberEnc.transform(xVal['cust_number'])"
      ],
      "execution_count": null,
      "outputs": []
    },
    {
      "cell_type": "code",
      "metadata": {
        "colab": {
          "base_uri": "https://localhost:8080/",
          "height": 713
        },
        "id": "_dlHMeBBOfOX",
        "outputId": "b7be84aa-73c3-4fef-acb5-09d29efd1543"
      },
      "source": [
        "import matplotlib.pyplot as plt\n",
        "%matplotlib inline\n",
        "\n",
        "temp = xTrain.merge(yTrain, on = xTrain.index)#created temporary dataframe for visualization and analsis purpose only\n",
        "fig, ax = plt.subplots()\n",
        "fig.set_size_inches(15, 10)\n",
        "sns.heatmap(temp.corr(),cmap='coolwarm',ax=ax,annot=True,linewidths=2)#no highly correlated features as can be seen"
      ],
      "execution_count": null,
      "outputs": [
        {
          "output_type": "execute_result",
          "data": {
            "text/plain": [
              "<matplotlib.axes._subplots.AxesSubplot at 0x7f35a66670d0>"
            ]
          },
          "metadata": {
            "tags": []
          },
          "execution_count": 34
        },
        {
          "output_type": "display_data",
          "data": {
            "image/png": "[encoded data removed]",
            "text/plain": [
              "<Figure size 1080x720 with 2 Axes>"
            ]
          },
          "metadata": {
            "tags": [],
            "needs_background": "light"
          }
        }
      ]
    },
    {
      "cell_type": "markdown",
      "metadata": {
        "id": "4vbsyVPb8qjf"
      },
      "source": [
        "Identifying important features for decision tree regressor"
      ]
    },
    {
      "cell_type": "code",
      "metadata": {
        "colab": {
          "base_uri": "https://localhost:8080/",
          "height": 265
        },
        "id": "AKjZ0RezP4WC",
        "outputId": "071af405-0990-423d-884b-f50ac059dbd8"
      },
      "source": [
        "from sklearn.ensemble import ExtraTreesRegressor\n",
        "reg= ExtraTreesRegressor()\n",
        "reg.fit(xTrain,yTrain)\n",
        "reg.feature_importances_#this evatuates and gives us the significate vale of each feature on the ExtraTreesRegressor model the higher the better\n",
        "feat_importances = pd.Series(reg.feature_importances_, index=xTrain.columns)\n",
        "feat_importances.plot(kind='barh')\n",
        "plt.show()#we can see the importance of available features on above model"
      ],
      "execution_count": null,
      "outputs": [
        {
          "output_type": "display_data",
          "data": {
            "image/png": "[encoded data removed]",
            "text/plain": [
              "<Figure size 432x288 with 1 Axes>"
            ]
          },
          "metadata": {
            "tags": [],
            "needs_background": "light"
          }
        }
      ]
    },
    {
      "cell_type": "code",
      "metadata": {
        "colab": {
          "base_uri": "https://localhost:8080/",
          "height": 282
        },
        "id": "OOfGhc4yT1lf",
        "outputId": "fea8181f-e369-4f56-ecf8-6d59ade975c1"
      },
      "source": [
        "feat_importances.nlargest(5).plot(kind='barh')#identifying and plotting 5 most important features"
      ],
      "execution_count": null,
      "outputs": [
        {
          "output_type": "execute_result",
          "data": {
            "text/plain": [
              "<matplotlib.axes._subplots.AxesSubplot at 0x7f35a10ecad0>"
            ]
          },
          "metadata": {
            "tags": []
          },
          "execution_count": 36
        },
        {
          "output_type": "display_data",
          "data": {
            "image/png": "[encoded data removed]",
            "text/plain": [
              "<Figure size 432x288 with 1 Axes>"
            ]
          },
          "metadata": {
            "tags": [],
            "needs_background": "light"
          }
        }
      ]
    },
    {
      "cell_type": "code",
      "metadata": {
        "id": "OFYcTKFbMddP",
        "colab": {
          "base_uri": "https://localhost:8080/",
          "height": 366
        },
        "outputId": "03e1f3c6-b957-4098-d1d1-5691ba20a362"
      },
      "source": [
        "from xgboost.sklearn import XGBRegressor\n",
        "s= XGBRegressor()\n",
        "s.fit(xTrain,yTrain)\n",
        "s.feature_importances_#this evatuates and gives us the significate vale of each feature on the XG boost model the higher the better\n",
        "feat_importances = pd.Series(s.feature_importances_, index=xTrain.columns)\n",
        "feat_importances.plot(kind='barh')\n",
        "plt.show(), s.feature_importances_#plotting importance of each feature"
      ],
      "execution_count": null,
      "outputs": [
        {
          "output_type": "stream",
          "text": [
            "[04:20:10] WARNING: /workspace/src/objective/regression_obj.cu:152: reg:linear is now deprecated in favor of reg:squarederror.\n"
          ],
          "name": "stdout"
        },
        {
          "output_type": "display_data",
          "data": {
            "image/png": "[encoded data removed]",
            "text/plain": [
              "<Figure size 432x288 with 1 Axes>"
            ]
          },
          "metadata": {
            "tags": [],
            "needs_background": "light"
          }
        },
        {
          "output_type": "execute_result",
          "data": {
            "text/plain": [
              "(None, array([0.07834766, 0.09175847, 0.10956895, 0.04643844, 0.4704471 ,\n",
              "        0.04526963, 0.02290298, 0.        , 0.        , 0.        ,\n",
              "        0.        , 0.        , 0.        , 0.02359173, 0.02949074,\n",
              "        0.0150344 , 0.        , 0.03576798, 0.03138192, 0.        ,\n",
              "        0.        , 0.        , 0.        ], dtype=float32))"
            ]
          },
          "metadata": {
            "tags": []
          },
          "execution_count": 37
        }
      ]
    },
    {
      "cell_type": "code",
      "metadata": {
        "id": "AW-vffdDMddQ",
        "colab": {
          "base_uri": "https://localhost:8080/",
          "height": 282
        },
        "outputId": "a0895dea-8fe6-476c-91ae-a27ca0b7ebb4"
      },
      "source": [
        "feat_importances.nlargest(5).plot(kind='barh')#plotting top 5 features"
      ],
      "execution_count": null,
      "outputs": [
        {
          "output_type": "execute_result",
          "data": {
            "text/plain": [
              "<matplotlib.axes._subplots.AxesSubplot at 0x7f35a0f490d0>"
            ]
          },
          "metadata": {
            "tags": []
          },
          "execution_count": 38
        },
        {
          "output_type": "display_data",
          "data": {
            "image/png": "[encoded data removed]",
            "text/plain": [
              "<Figure size 432x288 with 1 Axes>"
            ]
          },
          "metadata": {
            "tags": [],
            "needs_background": "light"
          }
        }
      ]
    },
    {
      "cell_type": "code",
      "metadata": {
        "colab": {
          "base_uri": "https://localhost:8080/"
        },
        "id": "Ki0MN348Q5Mg",
        "outputId": "be681a0a-2a23-4180-f16f-3118953248b6"
      },
      "source": [
        "xTrain.info()"
      ],
      "execution_count": null,
      "outputs": [
        {
          "output_type": "stream",
          "text": [
            "<class 'pandas.core.frame.DataFrame'>\n",
            "Int64Index: 31999 entries, 6944 to 40243\n",
            "Data columns (total 23 columns):\n",
            " #   Column                Non-Null Count  Dtype  \n",
            "---  ------                --------------  -----  \n",
            " 0   business_code         31999 non-null  int64  \n",
            " 1   cust_number           31999 non-null  int64  \n",
            " 2   name_customer         31999 non-null  int64  \n",
            " 3   total_open_amount     31999 non-null  float64\n",
            " 4   cust_payment_terms    31999 non-null  int64  \n",
            " 5   postingDay            31999 non-null  int64  \n",
            " 6   postingMonth          31999 non-null  int64  \n",
            " 7   postingYear           31999 non-null  int64  \n",
            " 8   postingQuarter        31999 non-null  int64  \n",
            " 9   CreateDay             31999 non-null  int64  \n",
            " 10  CreateMonth           31999 non-null  int64  \n",
            " 11  CreateYear            31999 non-null  int64  \n",
            " 12  CreateQuarter         31999 non-null  int64  \n",
            " 13  dueDay                31999 non-null  int64  \n",
            " 14  dueMonth              31999 non-null  int64  \n",
            " 15  dueYear               31999 non-null  int64  \n",
            " 16  dueQuarter            31999 non-null  int64  \n",
            " 17  baselineCreateDay     31999 non-null  int64  \n",
            " 18  baselineCreateMonth   31999 non-null  int64  \n",
            " 19  baselineCreateYear    31999 non-null  int64  \n",
            " 20  baselineQuarter       31999 non-null  int64  \n",
            " 21  invoice_currency_CAD  31999 non-null  uint8  \n",
            " 22  invoice_currency_USD  31999 non-null  uint8  \n",
            "dtypes: float64(1), int64(20), uint8(2)\n",
            "memory usage: 5.4 MB\n"
          ],
          "name": "stdout"
        }
      ]
    },
    {
      "cell_type": "code",
      "metadata": {
        "id": "hqnuOitcQnD3"
      },
      "source": [
        "#droping irrelevant features as highlighted by the steps above\n",
        "xTrain.drop(labels=['invoice_currency_USD','invoice_currency_CAD','baselineQuarter','baselineCreateYear','baselineCreateMonth','dueMonth','dueYear','dueQuarter','CreateQuarter','CreateYear','CreateMonth','CreateDay','postingQuarter','postingYear','postingMonth','business_code','baselineCreateDay','postingDay'],axis = 1, inplace=True)\n",
        "xVal.drop(labels=['invoice_currency_USD','invoice_currency_CAD','baselineQuarter','baselineCreateYear','baselineCreateMonth','dueMonth','dueYear','dueQuarter','CreateQuarter','CreateYear','CreateMonth','CreateDay','postingQuarter','postingYear','postingMonth','business_code','baselineCreateDay','postingDay'],axis = 1, inplace=True)\n",
        "xTest.drop(labels=['invoice_currency_USD','invoice_currency_CAD','baselineQuarter','baselineCreateYear','baselineCreateMonth','dueMonth','dueYear','dueQuarter','CreateQuarter','CreateYear','CreateMonth','CreateDay','postingQuarter','postingYear','postingMonth','business_code','baselineCreateDay','postingDay'],axis = 1, inplace=True)"
      ],
      "execution_count": null,
      "outputs": []
    },
    {
      "cell_type": "code",
      "metadata": {
        "colab": {
          "base_uri": "https://localhost:8080/"
        },
        "id": "tuBbxJO3SkkW",
        "outputId": "5b92b187-54e4-4ea7-8c27-129f8dac2f2f"
      },
      "source": [
        "xTrain.info()"
      ],
      "execution_count": null,
      "outputs": [
        {
          "output_type": "stream",
          "text": [
            "<class 'pandas.core.frame.DataFrame'>\n",
            "Int64Index: 31999 entries, 6944 to 40243\n",
            "Data columns (total 5 columns):\n",
            " #   Column              Non-Null Count  Dtype  \n",
            "---  ------              --------------  -----  \n",
            " 0   cust_number         31999 non-null  int64  \n",
            " 1   name_customer       31999 non-null  int64  \n",
            " 2   total_open_amount   31999 non-null  float64\n",
            " 3   cust_payment_terms  31999 non-null  int64  \n",
            " 4   dueDay              31999 non-null  int64  \n",
            "dtypes: float64(1), int64(4)\n",
            "memory usage: 1.5 MB\n"
          ],
          "name": "stdout"
        }
      ]
    },
    {
      "cell_type": "markdown",
      "metadata": {
        "id": "yu32CaWQOY7F"
      },
      "source": [
        "##MODELS"
      ]
    },
    {
      "cell_type": "markdown",
      "metadata": {
        "id": "ws1mZgI6BqNf"
      },
      "source": [
        "**Leniar Regression**"
      ]
    },
    {
      "cell_type": "code",
      "metadata": {
        "colab": {
          "base_uri": "https://localhost:8080/"
        },
        "id": "mDSXJwo-jc03",
        "outputId": "100a035b-e35b-4ffd-e2d4-66f855990a8a"
      },
      "source": [
        "from sklearn.linear_model import LinearRegression\n",
        "base = LinearRegression()\n",
        "base.fit(xTrain,yTrain)"
      ],
      "execution_count": null,
      "outputs": [
        {
          "output_type": "execute_result",
          "data": {
            "text/plain": [
              "LinearRegression(copy_X=True, fit_intercept=True, n_jobs=None, normalize=False)"
            ]
          },
          "metadata": {
            "tags": []
          },
          "execution_count": 42
        }
      ]
    },
    {
      "cell_type": "code",
      "metadata": {
        "id": "6UmrJFssnp7_"
      },
      "source": [
        "y_predict = base.predict(xVal)#predicting validation values of val set"
      ],
      "execution_count": null,
      "outputs": []
    },
    {
      "cell_type": "code",
      "metadata": {
        "colab": {
          "base_uri": "https://localhost:8080/"
        },
        "id": "0pnnSAWfny7b",
        "outputId": "60db37c7-6d0f-4841-8ad6-37e00b1c75d7"
      },
      "source": [
        "from sklearn.metrics import mean_squared_error\n",
        "\n",
        "mean_squared_error(yVal,y_predict, squared=False)#finding mean squared error b/w actual and predicted values"
      ],
      "execution_count": null,
      "outputs": [
        {
          "output_type": "execute_result",
          "data": {
            "text/plain": [
              "7.5095603919016805"
            ]
          },
          "metadata": {
            "tags": []
          },
          "execution_count": 44
        }
      ]
    },
    {
      "cell_type": "markdown",
      "metadata": {
        "id": "lQ5rxdRlW8Ik"
      },
      "source": [
        "**Lasso regression**"
      ]
    },
    {
      "cell_type": "code",
      "metadata": {
        "colab": {
          "base_uri": "https://localhost:8080/"
        },
        "id": "KLi4dwXZXAUh",
        "outputId": "664cd4de-8dc4-43d2-b03f-bd5da07955f6"
      },
      "source": [
        "from sklearn.linear_model import Lasso\n",
        "\n",
        "lasso = Lasso()\n",
        "lasso.fit(xTrain,yTrain)\n",
        "y_predict3 = lasso.predict(xVal)\n",
        "mean_squared_error(yVal,y_predict3, squared=False)"
      ],
      "execution_count": null,
      "outputs": [
        {
          "output_type": "execute_result",
          "data": {
            "text/plain": [
              "7.505547017482167"
            ]
          },
          "metadata": {
            "tags": []
          },
          "execution_count": 45
        }
      ]
    },
    {
      "cell_type": "markdown",
      "metadata": {
        "id": "yqLxQn2ZZneQ"
      },
      "source": [
        "**Elastic-Net**"
      ]
    },
    {
      "cell_type": "code",
      "metadata": {
        "colab": {
          "base_uri": "https://localhost:8080/"
        },
        "id": "BRc0f7zBZud-",
        "outputId": "c3da9762-3b55-4c01-efd8-21e6452fde8d"
      },
      "source": [
        "from sklearn.linear_model import ElasticNet\n",
        "elastic = ElasticNet()\n",
        "elastic.fit(xTrain,yTrain)\n",
        "y_predict4 = elastic.predict(xVal)\n",
        "mean_squared_error(yVal,y_predict4, squared=False)"
      ],
      "execution_count": null,
      "outputs": [
        {
          "output_type": "execute_result",
          "data": {
            "text/plain": [
              "7.507138525238327"
            ]
          },
          "metadata": {
            "tags": []
          },
          "execution_count": 46
        }
      ]
    },
    {
      "cell_type": "markdown",
      "metadata": {
        "id": "AR9KESd1agZa"
      },
      "source": [
        "**Support Vector regression**"
      ]
    },
    {
      "cell_type": "code",
      "metadata": {
        "id": "AC26bE5HakqQ"
      },
      "source": [
        "from sklearn.svm import SVR"
      ],
      "execution_count": null,
      "outputs": []
    },
    {
      "cell_type": "markdown",
      "metadata": {
        "id": "YLJRiBpTcBIn"
      },
      "source": [
        "support vector hyperparameter tuning"
      ]
    },
    {
      "cell_type": "code",
      "metadata": {
        "id": "zzw9nuwycFEj"
      },
      "source": [
        "#find optimal hyperparameter values for the support vector using randomisedsearchcv module\n",
        "#from sklearn.model_selection import RandomizedSearchCV\n",
        "#from scipy.stats import reciprocal, uniform\n",
        "#param_grid = {'C': [0.1,1, 10, 100], 'gamma': [1,0.1,0.01,0.001],'kernel': ['rbf', 'poly', 'sigmoid']}\n",
        "#support = SVR()\n",
        "#support = RandomizedSearchCV(support, param_grid,refit=True,verbose=2)\n",
        "#support.fit(xTrain,yTrain)\n",
        "#y_predict2 = base.predict(xVal)\n",
        "\n",
        "#print(\"Tuned SVR Parameters: {}\".format(support.best_params_))\n",
        "#print(\"Best score is {}\".format(support.best_score_))"
      ],
      "execution_count": null,
      "outputs": []
    },
    {
      "cell_type": "code",
      "metadata": {
        "id": "1vbPD-OAea4J",
        "colab": {
          "base_uri": "https://localhost:8080/"
        },
        "outputId": "fe6e7e51-b605-4a8b-d2c8-672bf214f638"
      },
      "source": [
        "support = SVR()\n",
        "support.fit(xTrain,yTrain)\n",
        "y_predict5 = support.predict(xVal)\n",
        "mean_squared_error(yVal,y_predict5, squared=False)"
      ],
      "execution_count": null,
      "outputs": [
        {
          "output_type": "execute_result",
          "data": {
            "text/plain": [
              "7.407535066061726"
            ]
          },
          "metadata": {
            "tags": []
          },
          "execution_count": 49
        }
      ]
    },
    {
      "cell_type": "markdown",
      "metadata": {
        "id": "3_AkIXXHMddT"
      },
      "source": [
        "**XGB Regressor**"
      ]
    },
    {
      "cell_type": "code",
      "metadata": {
        "id": "8r-mh-VgMddU",
        "colab": {
          "base_uri": "https://localhost:8080/"
        },
        "outputId": "6f5d8206-914d-4938-df33-7fcb8ba1ab9b"
      },
      "source": [
        "#find optimal hyperparameter values for the xg boost using randomisedsearchcv module\n",
        "from xgboost.sklearn import XGBRegressor\n",
        "from sklearn.model_selection import GridSearchCV\n",
        "\n",
        "xgb1 = XGBRegressor()\n",
        "parameters = {'nthread':[4], #when use hyperthread, xgboost may become slower\n",
        "              'objective':['reg:linear'],\n",
        "              'learning_rate': [.03, 0.05, .07], #so called `eta` value\n",
        "              'max_depth': [5, 6, 7],\n",
        "              'min_child_weight': [4],\n",
        "              'silent': [1],\n",
        "              'subsample': [0.7],\n",
        "              'colsample_bytree': [0.7],\n",
        "              'n_estimators': [500]}\n",
        "\n",
        "xgb_grid = GridSearchCV(xgb1,\n",
        "                        parameters,\n",
        "                        cv = 2,\n",
        "                        n_jobs = 5,\n",
        "                        verbose=True)\n",
        "\n",
        "xgb_grid.fit(xTrain,\n",
        "         yTrain)\n",
        "\n",
        "print(xgb_grid.best_score_)\n",
        "print(xgb_grid.best_params_)"
      ],
      "execution_count": null,
      "outputs": [
        {
          "output_type": "stream",
          "text": [
            "Fitting 2 folds for each of 9 candidates, totalling 18 fits\n"
          ],
          "name": "stdout"
        },
        {
          "output_type": "stream",
          "text": [
            "[Parallel(n_jobs=5)]: Using backend LokyBackend with 5 concurrent workers.\n",
            "[Parallel(n_jobs=5)]: Done  18 out of  18 | elapsed:  1.5min finished\n"
          ],
          "name": "stderr"
        },
        {
          "output_type": "stream",
          "text": [
            "0.36496477927705645\n",
            "{'colsample_bytree': 0.7, 'learning_rate': 0.03, 'max_depth': 6, 'min_child_weight': 4, 'n_estimators': 500, 'nthread': 4, 'objective': 'reg:linear', 'silent': 1, 'subsample': 0.7}\n"
          ],
          "name": "stdout"
        }
      ]
    },
    {
      "cell_type": "code",
      "metadata": {
        "id": "sZ6h0a9pMddU",
        "colab": {
          "base_uri": "https://localhost:8080/"
        },
        "outputId": "15010b65-090a-495f-bfd1-3532c8e60169"
      },
      "source": [
        "xgb = XGBRegressor(colsample_bytree= 0.7, learning_rate= 0.03, max_depth= 6, min_child_weight= 4, n_estimators= 500, nthread= 4, objective= 'reg:linear', silent= 1, subsample= 0.7)\n",
        "xgb.fit(xTrain,yTrain)\n",
        "y_predict7 = xgb.predict(xVal)\n",
        "mean_squared_error(yVal,y_predict7,squared=False)"
      ],
      "execution_count": null,
      "outputs": [
        {
          "output_type": "execute_result",
          "data": {
            "text/plain": [
              "6.138426263419953"
            ]
          },
          "metadata": {
            "tags": []
          },
          "execution_count": 51
        }
      ]
    },
    {
      "cell_type": "markdown",
      "metadata": {
        "id": "Apful7bre5jc"
      },
      "source": [
        "**Decision Tree Regressor**"
      ]
    },
    {
      "cell_type": "markdown",
      "metadata": {
        "id": "3B_hsSjcvcni"
      },
      "source": [
        ""
      ]
    },
    {
      "cell_type": "code",
      "metadata": {
        "id": "EkYu103IofGI",
        "colab": {
          "base_uri": "https://localhost:8080/"
        },
        "outputId": "d7c26a2c-d2f4-4e7a-84f8-16f3b515f342"
      },
      "source": [
        "from sklearn.tree import DecisionTreeRegressor\n",
        "regressor = DecisionTreeRegressor(max_depth=5,random_state=0)\n",
        "regressor.fit(xTrain,yTrain)\n",
        "y_predict2 = regressor.predict(xVal)\n",
        "mean_squared_error(yVal,y_predict2,squared=False)"
      ],
      "execution_count": null,
      "outputs": [
        {
          "output_type": "execute_result",
          "data": {
            "text/plain": [
              "6.379928208452732"
            ]
          },
          "metadata": {
            "tags": []
          },
          "execution_count": 52
        }
      ]
    },
    {
      "cell_type": "markdown",
      "metadata": {
        "id": "8BRJMmhgfBKG"
      },
      "source": [
        "Decision tree regressor hyperparameter tuning"
      ]
    },
    {
      "cell_type": "code",
      "metadata": {
        "id": "f2042vHOKvJ-",
        "colab": {
          "base_uri": "https://localhost:8080/"
        },
        "outputId": "24115110-b86b-4ca0-ea2b-6e782d84bdd2"
      },
      "source": [
        "from scipy.stats import randint\n",
        "from sklearn.model_selection import RandomizedSearchCV\n",
        "param_dist = {\"splitter\":[\"best\",\"random\"],\n",
        "            \"max_depth\" : [1,3,5,7,9,11,12],\n",
        "           \"min_samples_leaf\":[1,2,3,4,5,6,7,8,9,10],\n",
        "           \"min_weight_fraction_leaf\":[0.1,0.2,0.3,0.4,0.5,0.6,0.7,0.8,0.9],\n",
        "           \"max_features\":[\"auto\",\"log2\",\"sqrt\",None],\n",
        "           \"max_leaf_nodes\":[None,10,20,30,40,50,60,70,80,90]}\n",
        "\n",
        "tree = DecisionTreeRegressor()\n",
        "tree = RandomizedSearchCV(tree, param_dist, cv = 5)\n",
        "tree.fit(xTrain,yTrain)\n",
        "#y_predict2 = base.predict(xVal)\n",
        "\n",
        "print(\"Tuned Decision Tree Parameters: {}\".format(tree.best_params_))\n",
        "print(\"Best score is {}\".format(tree.best_score_))\n",
        "#mean_squared_error(yVal,y_predict2, squared=False)"
      ],
      "execution_count": null,
      "outputs": [
        {
          "output_type": "stream",
          "text": [
            "Tuned Decision Tree Parameters: {'splitter': 'best', 'min_weight_fraction_leaf': 0.4, 'min_samples_leaf': 7, 'max_leaf_nodes': 90, 'max_features': 'auto', 'max_depth': 11}\n",
            "Best score is 0.005460814164040184\n"
          ],
          "name": "stdout"
        }
      ]
    },
    {
      "cell_type": "code",
      "metadata": {
        "id": "Hs8Se1VVLaPc",
        "colab": {
          "base_uri": "https://localhost:8080/"
        },
        "outputId": "51ca0a5e-646f-46dc-9108-7c3131b95167"
      },
      "source": [
        "tree2 = DecisionTreeRegressor(max_depth=12,max_features=None,splitter='best',min_weight_fraction_leaf=0.3,min_samples_leaf=1,max_leaf_nodes=90)\n",
        "tree2.fit(xTrain,yTrain)\n",
        "y_predict2 = tree2.predict(xVal)\n",
        "mean_squared_error(yVal,y_predict2, squared=False)"
      ],
      "execution_count": null,
      "outputs": [
        {
          "output_type": "execute_result",
          "data": {
            "text/plain": [
              "7.392818908468082"
            ]
          },
          "metadata": {
            "tags": []
          },
          "execution_count": 54
        }
      ]
    },
    {
      "cell_type": "markdown",
      "metadata": {
        "id": "1lyasMIAocZM"
      },
      "source": [
        "**Extra trees Regressor** "
      ]
    },
    {
      "cell_type": "code",
      "metadata": {
        "id": "Zyrx3dieOFNH",
        "colab": {
          "base_uri": "https://localhost:8080/"
        },
        "outputId": "a188e565-2e53-4513-c670-370d7c4a252a"
      },
      "source": [
        "from sklearn.ensemble import ExtraTreesRegressor\n",
        "model = ExtraTreesRegressor ()\n",
        "model.fit(xTrain,yTrain)\n",
        "y_predict5 = model.predict(xVal)\n",
        "mean_squared_error(yVal,y_predict2, squared=False)"
      ],
      "execution_count": null,
      "outputs": [
        {
          "output_type": "execute_result",
          "data": {
            "text/plain": [
              "7.392818908468082"
            ]
          },
          "metadata": {
            "tags": []
          },
          "execution_count": 55
        }
      ]
    },
    {
      "cell_type": "markdown",
      "metadata": {
        "id": "YqaPB3JHCn1j"
      },
      "source": [
        "##We select XGB as our final model\n"
      ]
    },
    {
      "cell_type": "code",
      "metadata": {
        "id": "qSa4m0FkCuaT",
        "colab": {
          "base_uri": "https://localhost:8080/"
        },
        "outputId": "ce2efa7a-5692-4be5-a1c1-2d115d711e06"
      },
      "source": [
        "y_predict_test = xgb.predict(xTest)\n",
        "mean_squared_error(yTest, y_predict_test, squared=False)"
      ],
      "execution_count": null,
      "outputs": [
        {
          "output_type": "execute_result",
          "data": {
            "text/plain": [
              "7.692469590309233"
            ]
          },
          "metadata": {
            "tags": []
          },
          "execution_count": 56
        }
      ]
    },
    {
      "cell_type": "markdown",
      "metadata": {
        "id": "EsjGph5YDFlk"
      },
      "source": [
        "##Preprocessing final test"
      ]
    },
    {
      "cell_type": "code",
      "metadata": {
        "id": "UDFLz8YgC2a5"
      },
      "source": [
        "testData\n",
        "temp = testData.copy()"
      ],
      "execution_count": null,
      "outputs": []
    },
    {
      "cell_type": "code",
      "metadata": {
        "id": "0qdUvb8sDTCd",
        "colab": {
          "base_uri": "https://localhost:8080/"
        },
        "outputId": "56bebb38-566d-4c26-ee3b-9c50677e4703"
      },
      "source": [
        "testData.isna().sum()"
      ],
      "execution_count": null,
      "outputs": [
        {
          "output_type": "execute_result",
          "data": {
            "text/plain": [
              "business_code                 0\n",
              "cust_number                   0\n",
              "name_customer                 0\n",
              "clear_date                10000\n",
              "buisness_year                 0\n",
              "doc_id                        0\n",
              "posting_date                  0\n",
              "document_create_date          0\n",
              "document_create_date.1        0\n",
              "due_in_date                   0\n",
              "invoice_currency              0\n",
              "document type                 0\n",
              "posting_id                    0\n",
              "area_business             10000\n",
              "total_open_amount             0\n",
              "baseline_create_date          0\n",
              "cust_payment_terms            0\n",
              "invoice_id                    0\n",
              "dtype: int64"
            ]
          },
          "metadata": {
            "tags": []
          },
          "execution_count": 58
        }
      ]
    },
    {
      "cell_type": "code",
      "metadata": {
        "id": "KMKbNYbXDhU_"
      },
      "source": [
        "testData.drop(labels = ['area_business','clear_date'], inplace = True, axis = 1)\n",
        "testData.drop(labels = ['document type','posting_id'],axis = 1, inplace = True)\n",
        "testData.drop(labels = ['invoice_id','doc_id'],axis = 1, inplace=True)\n",
        "testData['baseline_create_date']= pd.to_datetime(testData['baseline_create_date'],format =\"%Y%m%d\")\n",
        "testData['document_create_date']= pd.to_datetime(testData['document_create_date.1'],format =\"%Y%m%d\")\n",
        "testData.drop(labels = ['document_create_date.1'], axis =1, inplace = True)\n",
        "testData['due_in_date']= pd.to_datetime(testData['due_in_date'],format =\"%Y%m%d\")\n",
        "testData['posting_date']= pd.to_datetime(testData['posting_date'],format =\"%Y-%m-%d\")\n",
        "testData.drop(labels = ['buisness_year'], axis = 1, inplace = True)"
      ],
      "execution_count": null,
      "outputs": []
    },
    {
      "cell_type": "code",
      "metadata": {
        "id": "cRfhs5c7EPM8"
      },
      "source": [
        "buff = testData.due_in_date\n",
        "testData['dueDay'] = testData[\"due_in_date\"].apply(lambda x: x.day)"
      ],
      "execution_count": null,
      "outputs": []
    },
    {
      "cell_type": "code",
      "metadata": {
        "id": "M8y-AtgBEtr2"
      },
      "source": [
        "testData['business_code'] = businessCodeEnc.transform(testData['business_code'])\n",
        "testData['cust_payment_terms'] = paymentTermsEnc.fit_transform(testData['cust_payment_terms'])\n",
        "testData['name_customer'] = customerNameEnc.fit_transform(testData['name_customer'])\n",
        "testData['cust_number'] = CustomerNumberEnc.fit_transform(testData['cust_number'])"
      ],
      "execution_count": null,
      "outputs": []
    },
    {
      "cell_type": "code",
      "metadata": {
        "id": "9IOis6qiMddX",
        "colab": {
          "base_uri": "https://localhost:8080/",
          "height": 437
        },
        "outputId": "b8c226b1-6b5b-4597-8e94-d32bb4c015e6"
      },
      "source": [
        "testData"
      ],
      "execution_count": null,
      "outputs": [
        {
          "output_type": "execute_result",
          "data": {
            "text/html": [
              "<div>\n",
              "<style scoped>\n",
              "    .dataframe tbody tr th:only-of-type {\n",
              "        vertical-align: middle;\n",
              "    }\n",
              "\n",
              "    .dataframe tbody tr th {\n",
              "        vertical-align: top;\n",
              "    }\n",
              "\n",
              "    .dataframe thead th {\n",
              "        text-align: right;\n",
              "    }\n",
              "</style>\n",
              "<table border=\"1\" class=\"dataframe\">\n",
              "  <thead>\n",
              "    <tr style=\"text-align: right;\">\n",
              "      <th></th>\n",
              "      <th>business_code</th>\n",
              "      <th>cust_number</th>\n",
              "      <th>name_customer</th>\n",
              "      <th>posting_date</th>\n",
              "      <th>document_create_date</th>\n",
              "      <th>due_in_date</th>\n",
              "      <th>invoice_currency</th>\n",
              "      <th>total_open_amount</th>\n",
              "      <th>baseline_create_date</th>\n",
              "      <th>cust_payment_terms</th>\n",
              "      <th>dueDay</th>\n",
              "    </tr>\n",
              "  </thead>\n",
              "  <tbody>\n",
              "    <tr>\n",
              "      <th>1</th>\n",
              "      <td>1</td>\n",
              "      <td>477</td>\n",
              "      <td>1304</td>\n",
              "      <td>2020-03-26</td>\n",
              "      <td>2020-03-26</td>\n",
              "      <td>2020-04-15</td>\n",
              "      <td>USD</td>\n",
              "      <td>1583.88</td>\n",
              "      <td>2020-03-26</td>\n",
              "      <td>21</td>\n",
              "      <td>15</td>\n",
              "    </tr>\n",
              "    <tr>\n",
              "      <th>14</th>\n",
              "      <td>1</td>\n",
              "      <td>454</td>\n",
              "      <td>377</td>\n",
              "      <td>2020-04-02</td>\n",
              "      <td>2020-04-02</td>\n",
              "      <td>2020-04-17</td>\n",
              "      <td>USD</td>\n",
              "      <td>40455.53</td>\n",
              "      <td>2020-04-02</td>\n",
              "      <td>13</td>\n",
              "      <td>17</td>\n",
              "    </tr>\n",
              "    <tr>\n",
              "      <th>16</th>\n",
              "      <td>1</td>\n",
              "      <td>398</td>\n",
              "      <td>1718</td>\n",
              "      <td>2020-03-25</td>\n",
              "      <td>2020-03-25</td>\n",
              "      <td>2020-04-09</td>\n",
              "      <td>USD</td>\n",
              "      <td>267.30</td>\n",
              "      <td>2020-03-25</td>\n",
              "      <td>26</td>\n",
              "      <td>9</td>\n",
              "    </tr>\n",
              "    <tr>\n",
              "      <th>23</th>\n",
              "      <td>1</td>\n",
              "      <td>398</td>\n",
              "      <td>1725</td>\n",
              "      <td>2020-04-02</td>\n",
              "      <td>2020-04-02</td>\n",
              "      <td>2020-04-17</td>\n",
              "      <td>USD</td>\n",
              "      <td>6039.48</td>\n",
              "      <td>2020-04-02</td>\n",
              "      <td>26</td>\n",
              "      <td>17</td>\n",
              "    </tr>\n",
              "    <tr>\n",
              "      <th>26</th>\n",
              "      <td>0</td>\n",
              "      <td>142</td>\n",
              "      <td>1452</td>\n",
              "      <td>2020-04-16</td>\n",
              "      <td>2020-04-16</td>\n",
              "      <td>2020-04-26</td>\n",
              "      <td>CAD</td>\n",
              "      <td>4974.10</td>\n",
              "      <td>2020-04-16</td>\n",
              "      <td>1</td>\n",
              "      <td>26</td>\n",
              "    </tr>\n",
              "    <tr>\n",
              "      <th>...</th>\n",
              "      <td>...</td>\n",
              "      <td>...</td>\n",
              "      <td>...</td>\n",
              "      <td>...</td>\n",
              "      <td>...</td>\n",
              "      <td>...</td>\n",
              "      <td>...</td>\n",
              "      <td>...</td>\n",
              "      <td>...</td>\n",
              "      <td>...</td>\n",
              "      <td>...</td>\n",
              "    </tr>\n",
              "    <tr>\n",
              "      <th>49972</th>\n",
              "      <td>1</td>\n",
              "      <td>360</td>\n",
              "      <td>1600</td>\n",
              "      <td>2020-03-27</td>\n",
              "      <td>2020-03-27</td>\n",
              "      <td>2020-04-11</td>\n",
              "      <td>USD</td>\n",
              "      <td>32027.19</td>\n",
              "      <td>2020-03-27</td>\n",
              "      <td>11</td>\n",
              "      <td>11</td>\n",
              "    </tr>\n",
              "    <tr>\n",
              "      <th>49985</th>\n",
              "      <td>0</td>\n",
              "      <td>539</td>\n",
              "      <td>1712</td>\n",
              "      <td>2020-04-14</td>\n",
              "      <td>2020-04-14</td>\n",
              "      <td>2020-04-25</td>\n",
              "      <td>CAD</td>\n",
              "      <td>3596.25</td>\n",
              "      <td>2020-04-15</td>\n",
              "      <td>1</td>\n",
              "      <td>25</td>\n",
              "    </tr>\n",
              "    <tr>\n",
              "      <th>49987</th>\n",
              "      <td>1</td>\n",
              "      <td>101</td>\n",
              "      <td>121</td>\n",
              "      <td>2020-03-27</td>\n",
              "      <td>2020-03-27</td>\n",
              "      <td>2020-04-26</td>\n",
              "      <td>USD</td>\n",
              "      <td>53403.84</td>\n",
              "      <td>2020-03-27</td>\n",
              "      <td>23</td>\n",
              "      <td>26</td>\n",
              "    </tr>\n",
              "    <tr>\n",
              "      <th>49992</th>\n",
              "      <td>1</td>\n",
              "      <td>432</td>\n",
              "      <td>539</td>\n",
              "      <td>2020-04-01</td>\n",
              "      <td>2020-04-01</td>\n",
              "      <td>2020-04-16</td>\n",
              "      <td>USD</td>\n",
              "      <td>43692.68</td>\n",
              "      <td>2020-04-01</td>\n",
              "      <td>11</td>\n",
              "      <td>16</td>\n",
              "    </tr>\n",
              "    <tr>\n",
              "      <th>49995</th>\n",
              "      <td>1</td>\n",
              "      <td>330</td>\n",
              "      <td>201</td>\n",
              "      <td>2020-04-23</td>\n",
              "      <td>2020-04-23</td>\n",
              "      <td>2020-05-08</td>\n",
              "      <td>USD</td>\n",
              "      <td>2340.11</td>\n",
              "      <td>2020-04-23</td>\n",
              "      <td>11</td>\n",
              "      <td>8</td>\n",
              "    </tr>\n",
              "  </tbody>\n",
              "</table>\n",
              "<p>10000 rows × 11 columns</p>\n",
              "</div>"
            ],
            "text/plain": [
              "       business_code  cust_number  ...  cust_payment_terms dueDay\n",
              "1                  1          477  ...                  21     15\n",
              "14                 1          454  ...                  13     17\n",
              "16                 1          398  ...                  26      9\n",
              "23                 1          398  ...                  26     17\n",
              "26                 0          142  ...                   1     26\n",
              "...              ...          ...  ...                 ...    ...\n",
              "49972              1          360  ...                  11     11\n",
              "49985              0          539  ...                   1     25\n",
              "49987              1          101  ...                  23     26\n",
              "49992              1          432  ...                  11     16\n",
              "49995              1          330  ...                  11      8\n",
              "\n",
              "[10000 rows x 11 columns]"
            ]
          },
          "metadata": {
            "tags": []
          },
          "execution_count": 62
        }
      ]
    },
    {
      "cell_type": "code",
      "metadata": {
        "id": "0Ma5-rWSFdDo"
      },
      "source": [
        "testData = testData[['cust_number', 'name_customer','total_open_amount','cust_payment_terms','dueDay']]"
      ],
      "execution_count": null,
      "outputs": []
    },
    {
      "cell_type": "code",
      "metadata": {
        "id": "chD7luvIMddY",
        "colab": {
          "base_uri": "https://localhost:8080/",
          "height": 417
        },
        "outputId": "13e6d316-4671-4ee1-94f3-bd62ce203028"
      },
      "source": [
        "testData"
      ],
      "execution_count": null,
      "outputs": [
        {
          "output_type": "execute_result",
          "data": {
            "text/html": [
              "<div>\n",
              "<style scoped>\n",
              "    .dataframe tbody tr th:only-of-type {\n",
              "        vertical-align: middle;\n",
              "    }\n",
              "\n",
              "    .dataframe tbody tr th {\n",
              "        vertical-align: top;\n",
              "    }\n",
              "\n",
              "    .dataframe thead th {\n",
              "        text-align: right;\n",
              "    }\n",
              "</style>\n",
              "<table border=\"1\" class=\"dataframe\">\n",
              "  <thead>\n",
              "    <tr style=\"text-align: right;\">\n",
              "      <th></th>\n",
              "      <th>cust_number</th>\n",
              "      <th>name_customer</th>\n",
              "      <th>total_open_amount</th>\n",
              "      <th>cust_payment_terms</th>\n",
              "      <th>dueDay</th>\n",
              "    </tr>\n",
              "  </thead>\n",
              "  <tbody>\n",
              "    <tr>\n",
              "      <th>1</th>\n",
              "      <td>477</td>\n",
              "      <td>1304</td>\n",
              "      <td>1583.88</td>\n",
              "      <td>21</td>\n",
              "      <td>15</td>\n",
              "    </tr>\n",
              "    <tr>\n",
              "      <th>14</th>\n",
              "      <td>454</td>\n",
              "      <td>377</td>\n",
              "      <td>40455.53</td>\n",
              "      <td>13</td>\n",
              "      <td>17</td>\n",
              "    </tr>\n",
              "    <tr>\n",
              "      <th>16</th>\n",
              "      <td>398</td>\n",
              "      <td>1718</td>\n",
              "      <td>267.30</td>\n",
              "      <td>26</td>\n",
              "      <td>9</td>\n",
              "    </tr>\n",
              "    <tr>\n",
              "      <th>23</th>\n",
              "      <td>398</td>\n",
              "      <td>1725</td>\n",
              "      <td>6039.48</td>\n",
              "      <td>26</td>\n",
              "      <td>17</td>\n",
              "    </tr>\n",
              "    <tr>\n",
              "      <th>26</th>\n",
              "      <td>142</td>\n",
              "      <td>1452</td>\n",
              "      <td>4974.10</td>\n",
              "      <td>1</td>\n",
              "      <td>26</td>\n",
              "    </tr>\n",
              "    <tr>\n",
              "      <th>...</th>\n",
              "      <td>...</td>\n",
              "      <td>...</td>\n",
              "      <td>...</td>\n",
              "      <td>...</td>\n",
              "      <td>...</td>\n",
              "    </tr>\n",
              "    <tr>\n",
              "      <th>49972</th>\n",
              "      <td>360</td>\n",
              "      <td>1600</td>\n",
              "      <td>32027.19</td>\n",
              "      <td>11</td>\n",
              "      <td>11</td>\n",
              "    </tr>\n",
              "    <tr>\n",
              "      <th>49985</th>\n",
              "      <td>539</td>\n",
              "      <td>1712</td>\n",
              "      <td>3596.25</td>\n",
              "      <td>1</td>\n",
              "      <td>25</td>\n",
              "    </tr>\n",
              "    <tr>\n",
              "      <th>49987</th>\n",
              "      <td>101</td>\n",
              "      <td>121</td>\n",
              "      <td>53403.84</td>\n",
              "      <td>23</td>\n",
              "      <td>26</td>\n",
              "    </tr>\n",
              "    <tr>\n",
              "      <th>49992</th>\n",
              "      <td>432</td>\n",
              "      <td>539</td>\n",
              "      <td>43692.68</td>\n",
              "      <td>11</td>\n",
              "      <td>16</td>\n",
              "    </tr>\n",
              "    <tr>\n",
              "      <th>49995</th>\n",
              "      <td>330</td>\n",
              "      <td>201</td>\n",
              "      <td>2340.11</td>\n",
              "      <td>11</td>\n",
              "      <td>8</td>\n",
              "    </tr>\n",
              "  </tbody>\n",
              "</table>\n",
              "<p>10000 rows × 5 columns</p>\n",
              "</div>"
            ],
            "text/plain": [
              "       cust_number  name_customer  ...  cust_payment_terms  dueDay\n",
              "1              477           1304  ...                  21      15\n",
              "14             454            377  ...                  13      17\n",
              "16             398           1718  ...                  26       9\n",
              "23             398           1725  ...                  26      17\n",
              "26             142           1452  ...                   1      26\n",
              "...            ...            ...  ...                 ...     ...\n",
              "49972          360           1600  ...                  11      11\n",
              "49985          539           1712  ...                   1      25\n",
              "49987          101            121  ...                  23      26\n",
              "49992          432            539  ...                  11      16\n",
              "49995          330            201  ...                  11       8\n",
              "\n",
              "[10000 rows x 5 columns]"
            ]
          },
          "metadata": {
            "tags": []
          },
          "execution_count": 64
        }
      ]
    },
    {
      "cell_type": "markdown",
      "metadata": {
        "id": "DSYNvnBHmwUO"
      },
      "source": [
        "##Predicting Missing Values"
      ]
    },
    {
      "cell_type": "code",
      "metadata": {
        "id": "ohiJQZ7Nm2Du"
      },
      "source": [
        "testDataPrediction = xgb.predict(testData)"
      ],
      "execution_count": null,
      "outputs": []
    },
    {
      "cell_type": "code",
      "metadata": {
        "id": "XMftPnepMddY"
      },
      "source": [
        "testDataPrediction = testDataPrediction.astype(int)\n"
      ],
      "execution_count": null,
      "outputs": []
    },
    {
      "cell_type": "code",
      "metadata": {
        "id": "Owc9PN3JMddZ"
      },
      "source": [
        "testDataPrediction = pd.DataFrame(testDataPrediction, columns=['ageing'])"
      ],
      "execution_count": null,
      "outputs": []
    },
    {
      "cell_type": "code",
      "metadata": {
        "id": "FlSRADWpMddZ"
      },
      "source": [
        "li = []\n",
        "for i in testDataPrediction.ageing:\n",
        "    if(i<=0):\n",
        "        li.append('<0')\n",
        "    elif(i>0 and i<=15):\n",
        "        li.append('1-15')\n",
        "    elif(i>15 and i<=30):\n",
        "        li.append('16-30')\n",
        "    elif(i>30 and i<=45):\n",
        "        li.append('31-45')\n",
        "    elif(i>45 and i<=65):\n",
        "        li.append('46-65')\n",
        "    else:\n",
        "        li.append('<65')"
      ],
      "execution_count": null,
      "outputs": []
    },
    {
      "cell_type": "code",
      "metadata": {
        "id": "NFZB3eYvMddZ"
      },
      "source": [
        "testDataPrediction['bucket'] = pd.DataFrame(li, columns=['bucket'])"
      ],
      "execution_count": null,
      "outputs": []
    },
    {
      "cell_type": "code",
      "metadata": {
        "id": "kmJWKb98MddZ",
        "colab": {
          "base_uri": "https://localhost:8080/",
          "height": 417
        },
        "outputId": "e358f30f-632e-45c1-b41d-072cf4337fc8"
      },
      "source": [
        "testDataPrediction"
      ],
      "execution_count": null,
      "outputs": [
        {
          "output_type": "execute_result",
          "data": {
            "text/html": [
              "<div>\n",
              "<style scoped>\n",
              "    .dataframe tbody tr th:only-of-type {\n",
              "        vertical-align: middle;\n",
              "    }\n",
              "\n",
              "    .dataframe tbody tr th {\n",
              "        vertical-align: top;\n",
              "    }\n",
              "\n",
              "    .dataframe thead th {\n",
              "        text-align: right;\n",
              "    }\n",
              "</style>\n",
              "<table border=\"1\" class=\"dataframe\">\n",
              "  <thead>\n",
              "    <tr style=\"text-align: right;\">\n",
              "      <th></th>\n",
              "      <th>ageing</th>\n",
              "      <th>bucket</th>\n",
              "    </tr>\n",
              "  </thead>\n",
              "  <tbody>\n",
              "    <tr>\n",
              "      <th>0</th>\n",
              "      <td>-3</td>\n",
              "      <td>&lt;0</td>\n",
              "    </tr>\n",
              "    <tr>\n",
              "      <th>1</th>\n",
              "      <td>-4</td>\n",
              "      <td>&lt;0</td>\n",
              "    </tr>\n",
              "    <tr>\n",
              "      <th>2</th>\n",
              "      <td>1</td>\n",
              "      <td>1-15</td>\n",
              "    </tr>\n",
              "    <tr>\n",
              "      <th>3</th>\n",
              "      <td>1</td>\n",
              "      <td>1-15</td>\n",
              "    </tr>\n",
              "    <tr>\n",
              "      <th>4</th>\n",
              "      <td>-8</td>\n",
              "      <td>&lt;0</td>\n",
              "    </tr>\n",
              "    <tr>\n",
              "      <th>...</th>\n",
              "      <td>...</td>\n",
              "      <td>...</td>\n",
              "    </tr>\n",
              "    <tr>\n",
              "      <th>9995</th>\n",
              "      <td>1</td>\n",
              "      <td>1-15</td>\n",
              "    </tr>\n",
              "    <tr>\n",
              "      <th>9996</th>\n",
              "      <td>-7</td>\n",
              "      <td>&lt;0</td>\n",
              "    </tr>\n",
              "    <tr>\n",
              "      <th>9997</th>\n",
              "      <td>1</td>\n",
              "      <td>1-15</td>\n",
              "    </tr>\n",
              "    <tr>\n",
              "      <th>9998</th>\n",
              "      <td>0</td>\n",
              "      <td>&lt;0</td>\n",
              "    </tr>\n",
              "    <tr>\n",
              "      <th>9999</th>\n",
              "      <td>-2</td>\n",
              "      <td>&lt;0</td>\n",
              "    </tr>\n",
              "  </tbody>\n",
              "</table>\n",
              "<p>10000 rows × 2 columns</p>\n",
              "</div>"
            ],
            "text/plain": [
              "      ageing bucket\n",
              "0         -3     <0\n",
              "1         -4     <0\n",
              "2          1   1-15\n",
              "3          1   1-15\n",
              "4         -8     <0\n",
              "...      ...    ...\n",
              "9995       1   1-15\n",
              "9996      -7     <0\n",
              "9997       1   1-15\n",
              "9998       0     <0\n",
              "9999      -2     <0\n",
              "\n",
              "[10000 rows x 2 columns]"
            ]
          },
          "metadata": {
            "tags": []
          },
          "execution_count": 70
        }
      ]
    },
    {
      "cell_type": "code",
      "metadata": {
        "id": "faEt5IHKMdda"
      },
      "source": [
        "from datetime import datetime, timedelta\n",
        "testDataPrediction['ageing'] = [timedelta(i) for i in testDataPrediction.ageing]"
      ],
      "execution_count": null,
      "outputs": []
    },
    {
      "cell_type": "code",
      "metadata": {
        "id": "BgBZwWiswuTb",
        "colab": {
          "base_uri": "https://localhost:8080/",
          "height": 417
        },
        "outputId": "ee2795f9-d4d0-43b1-d61a-9034c09a1d30"
      },
      "source": [
        "testDataPrediction"
      ],
      "execution_count": null,
      "outputs": [
        {
          "output_type": "execute_result",
          "data": {
            "text/html": [
              "<div>\n",
              "<style scoped>\n",
              "    .dataframe tbody tr th:only-of-type {\n",
              "        vertical-align: middle;\n",
              "    }\n",
              "\n",
              "    .dataframe tbody tr th {\n",
              "        vertical-align: top;\n",
              "    }\n",
              "\n",
              "    .dataframe thead th {\n",
              "        text-align: right;\n",
              "    }\n",
              "</style>\n",
              "<table border=\"1\" class=\"dataframe\">\n",
              "  <thead>\n",
              "    <tr style=\"text-align: right;\">\n",
              "      <th></th>\n",
              "      <th>ageing</th>\n",
              "      <th>bucket</th>\n",
              "    </tr>\n",
              "  </thead>\n",
              "  <tbody>\n",
              "    <tr>\n",
              "      <th>0</th>\n",
              "      <td>-3 days</td>\n",
              "      <td>&lt;0</td>\n",
              "    </tr>\n",
              "    <tr>\n",
              "      <th>1</th>\n",
              "      <td>-4 days</td>\n",
              "      <td>&lt;0</td>\n",
              "    </tr>\n",
              "    <tr>\n",
              "      <th>2</th>\n",
              "      <td>1 days</td>\n",
              "      <td>1-15</td>\n",
              "    </tr>\n",
              "    <tr>\n",
              "      <th>3</th>\n",
              "      <td>1 days</td>\n",
              "      <td>1-15</td>\n",
              "    </tr>\n",
              "    <tr>\n",
              "      <th>4</th>\n",
              "      <td>-8 days</td>\n",
              "      <td>&lt;0</td>\n",
              "    </tr>\n",
              "    <tr>\n",
              "      <th>...</th>\n",
              "      <td>...</td>\n",
              "      <td>...</td>\n",
              "    </tr>\n",
              "    <tr>\n",
              "      <th>9995</th>\n",
              "      <td>1 days</td>\n",
              "      <td>1-15</td>\n",
              "    </tr>\n",
              "    <tr>\n",
              "      <th>9996</th>\n",
              "      <td>-7 days</td>\n",
              "      <td>&lt;0</td>\n",
              "    </tr>\n",
              "    <tr>\n",
              "      <th>9997</th>\n",
              "      <td>1 days</td>\n",
              "      <td>1-15</td>\n",
              "    </tr>\n",
              "    <tr>\n",
              "      <th>9998</th>\n",
              "      <td>0 days</td>\n",
              "      <td>&lt;0</td>\n",
              "    </tr>\n",
              "    <tr>\n",
              "      <th>9999</th>\n",
              "      <td>-2 days</td>\n",
              "      <td>&lt;0</td>\n",
              "    </tr>\n",
              "  </tbody>\n",
              "</table>\n",
              "<p>10000 rows × 2 columns</p>\n",
              "</div>"
            ],
            "text/plain": [
              "      ageing bucket\n",
              "0    -3 days     <0\n",
              "1    -4 days     <0\n",
              "2     1 days   1-15\n",
              "3     1 days   1-15\n",
              "4    -8 days     <0\n",
              "...      ...    ...\n",
              "9995  1 days   1-15\n",
              "9996 -7 days     <0\n",
              "9997  1 days   1-15\n",
              "9998  0 days     <0\n",
              "9999 -2 days     <0\n",
              "\n",
              "[10000 rows x 2 columns]"
            ]
          },
          "metadata": {
            "tags": []
          },
          "execution_count": 72
        }
      ]
    },
    {
      "cell_type": "code",
      "metadata": {
        "id": "xPVBLg591_tz"
      },
      "source": [
        "counter = 0\n",
        "for i in buff.index:\n",
        "  buff[i] = buff[i] + testDataPrediction.ageing[counter]\n",
        "  counter+=1"
      ],
      "execution_count": null,
      "outputs": []
    },
    {
      "cell_type": "code",
      "metadata": {
        "id": "lxZaKZzn60cL"
      },
      "source": [
        "predicted_date = buff"
      ],
      "execution_count": null,
      "outputs": []
    },
    {
      "cell_type": "code",
      "metadata": {
        "id": "2HtxjbUM7Eep",
        "colab": {
          "base_uri": "https://localhost:8080/"
        },
        "outputId": "0a174d43-52ae-40c5-a436-97fe33619664"
      },
      "source": [
        "type(predicted_date)"
      ],
      "execution_count": null,
      "outputs": [
        {
          "output_type": "execute_result",
          "data": {
            "text/plain": [
              "pandas.core.series.Series"
            ]
          },
          "metadata": {
            "tags": []
          },
          "execution_count": 75
        }
      ]
    },
    {
      "cell_type": "code",
      "metadata": {
        "id": "dWZDg5V6FvWh"
      },
      "source": [
        "predicted_date = predicted_date.to_frame()\n",
        "predicted_date = predicted_date.reset_index()"
      ],
      "execution_count": null,
      "outputs": []
    },
    {
      "cell_type": "code",
      "metadata": {
        "id": "DKweB_8XxSoS"
      },
      "source": [
        "predicted_date.drop(labels=['index'],axis=1,inplace=True)"
      ],
      "execution_count": null,
      "outputs": []
    },
    {
      "cell_type": "code",
      "metadata": {
        "id": "KvPEkIrex3Le",
        "colab": {
          "base_uri": "https://localhost:8080/",
          "height": 417
        },
        "outputId": "e0d3e804-eead-4f7e-94a6-66b801b81e92"
      },
      "source": [
        "predicted_date"
      ],
      "execution_count": null,
      "outputs": [
        {
          "output_type": "execute_result",
          "data": {
            "text/html": [
              "<div>\n",
              "<style scoped>\n",
              "    .dataframe tbody tr th:only-of-type {\n",
              "        vertical-align: middle;\n",
              "    }\n",
              "\n",
              "    .dataframe tbody tr th {\n",
              "        vertical-align: top;\n",
              "    }\n",
              "\n",
              "    .dataframe thead th {\n",
              "        text-align: right;\n",
              "    }\n",
              "</style>\n",
              "<table border=\"1\" class=\"dataframe\">\n",
              "  <thead>\n",
              "    <tr style=\"text-align: right;\">\n",
              "      <th></th>\n",
              "      <th>due_in_date</th>\n",
              "    </tr>\n",
              "  </thead>\n",
              "  <tbody>\n",
              "    <tr>\n",
              "      <th>0</th>\n",
              "      <td>2020-04-12</td>\n",
              "    </tr>\n",
              "    <tr>\n",
              "      <th>1</th>\n",
              "      <td>2020-04-13</td>\n",
              "    </tr>\n",
              "    <tr>\n",
              "      <th>2</th>\n",
              "      <td>2020-04-10</td>\n",
              "    </tr>\n",
              "    <tr>\n",
              "      <th>3</th>\n",
              "      <td>2020-04-18</td>\n",
              "    </tr>\n",
              "    <tr>\n",
              "      <th>4</th>\n",
              "      <td>2020-04-18</td>\n",
              "    </tr>\n",
              "    <tr>\n",
              "      <th>...</th>\n",
              "      <td>...</td>\n",
              "    </tr>\n",
              "    <tr>\n",
              "      <th>9995</th>\n",
              "      <td>2020-04-12</td>\n",
              "    </tr>\n",
              "    <tr>\n",
              "      <th>9996</th>\n",
              "      <td>2020-04-18</td>\n",
              "    </tr>\n",
              "    <tr>\n",
              "      <th>9997</th>\n",
              "      <td>2020-04-27</td>\n",
              "    </tr>\n",
              "    <tr>\n",
              "      <th>9998</th>\n",
              "      <td>2020-04-16</td>\n",
              "    </tr>\n",
              "    <tr>\n",
              "      <th>9999</th>\n",
              "      <td>2020-05-06</td>\n",
              "    </tr>\n",
              "  </tbody>\n",
              "</table>\n",
              "<p>10000 rows × 1 columns</p>\n",
              "</div>"
            ],
            "text/plain": [
              "     due_in_date\n",
              "0     2020-04-12\n",
              "1     2020-04-13\n",
              "2     2020-04-10\n",
              "3     2020-04-18\n",
              "4     2020-04-18\n",
              "...          ...\n",
              "9995  2020-04-12\n",
              "9996  2020-04-18\n",
              "9997  2020-04-27\n",
              "9998  2020-04-16\n",
              "9999  2020-05-06\n",
              "\n",
              "[10000 rows x 1 columns]"
            ]
          },
          "metadata": {
            "tags": []
          },
          "execution_count": 78
        }
      ]
    },
    {
      "cell_type": "code",
      "metadata": {
        "id": "oCB-E_PKyKNj"
      },
      "source": [
        "testDataPrediction['due_in_date'] = predicted_date['due_in_date']"
      ],
      "execution_count": null,
      "outputs": []
    },
    {
      "cell_type": "code",
      "metadata": {
        "id": "lLKsb_mhzBiD"
      },
      "source": [
        "temp = temp.reset_index()"
      ],
      "execution_count": null,
      "outputs": []
    },
    {
      "cell_type": "code",
      "metadata": {
        "id": "FL_WXqSczD-_"
      },
      "source": [
        "temp['ageing'] = testDataPrediction['ageing']\n",
        "temp['bucket'] = testDataPrediction['bucket']\n",
        "temp['predicted_date'] = testDataPrediction['due_in_date']"
      ],
      "execution_count": null,
      "outputs": []
    },
    {
      "cell_type": "code",
      "metadata": {
        "id": "V-pRg-sx6Jtg"
      },
      "source": [
        "temp['due_in_date']= pd.to_datetime(temp['due_in_date'],format =\"%Y%m%d\")"
      ],
      "execution_count": null,
      "outputs": []
    },
    {
      "cell_type": "code",
      "metadata": {
        "id": "hn-65mVMNZim",
        "colab": {
          "base_uri": "https://localhost:8080/"
        },
        "outputId": "07d76e63-4bb3-4f1e-86f0-030267b5ebfe"
      },
      "source": [
        "temp.nunique()"
      ],
      "execution_count": null,
      "outputs": [
        {
          "output_type": "execute_result",
          "data": {
            "text/plain": [
              "index                     10000\n",
              "business_code                 5\n",
              "cust_number                 661\n",
              "name_customer              1780\n",
              "clear_date                    0\n",
              "buisness_year                 1\n",
              "doc_id                     9735\n",
              "posting_date                 84\n",
              "document_create_date         88\n",
              "document_create_date.1       84\n",
              "due_in_date                 127\n",
              "invoice_currency              2\n",
              "document type                 1\n",
              "posting_id                    1\n",
              "area_business                 0\n",
              "total_open_amount          9083\n",
              "baseline_create_date         86\n",
              "cust_payment_terms           41\n",
              "invoice_id                 9735\n",
              "ageing                       37\n",
              "bucket                        3\n",
              "predicted_date              130\n",
              "dtype: int64"
            ]
          },
          "metadata": {
            "tags": []
          },
          "execution_count": 83
        }
      ]
    },
    {
      "cell_type": "code",
      "metadata": {
        "id": "m_S6lSfSO_7W"
      },
      "source": [
        "temp.drop_duplicates(subset =\"invoice_id\", inplace = True)"
      ],
      "execution_count": null,
      "outputs": []
    },
    {
      "cell_type": "code",
      "metadata": {
        "id": "j0kEUu9cPLqO",
        "colab": {
          "base_uri": "https://localhost:8080/"
        },
        "outputId": "878ac3bd-c844-4df7-8bcc-08b6b6501e4f"
      },
      "source": [
        "temp.nunique()"
      ],
      "execution_count": null,
      "outputs": [
        {
          "output_type": "execute_result",
          "data": {
            "text/plain": [
              "index                     9735\n",
              "business_code                5\n",
              "cust_number                661\n",
              "name_customer             1780\n",
              "clear_date                   0\n",
              "buisness_year                1\n",
              "doc_id                    9735\n",
              "posting_date                84\n",
              "document_create_date        88\n",
              "document_create_date.1      84\n",
              "due_in_date                127\n",
              "invoice_currency             2\n",
              "document type                1\n",
              "posting_id                   1\n",
              "area_business                0\n",
              "total_open_amount         9083\n",
              "baseline_create_date        86\n",
              "cust_payment_terms          41\n",
              "invoice_id                9735\n",
              "ageing                      37\n",
              "bucket                       3\n",
              "predicted_date             130\n",
              "dtype: int64"
            ]
          },
          "metadata": {
            "tags": []
          },
          "execution_count": 85
        }
      ]
    },
    {
      "cell_type": "markdown",
      "metadata": {
        "id": "zxnqYi6b70sJ"
      },
      "source": [
        "##Output in .csv"
      ]
    },
    {
      "cell_type": "code",
      "metadata": {
        "id": "bGAfp3N5PXDw",
        "colab": {
          "base_uri": "https://localhost:8080/",
          "height": 504
        },
        "outputId": "ccd41ee3-ed98-4f03-8955-76200439816e"
      },
      "source": [
        "temp"
      ],
      "execution_count": null,
      "outputs": [
        {
          "output_type": "execute_result",
          "data": {
            "text/html": [
              "<div>\n",
              "<style scoped>\n",
              "    .dataframe tbody tr th:only-of-type {\n",
              "        vertical-align: middle;\n",
              "    }\n",
              "\n",
              "    .dataframe tbody tr th {\n",
              "        vertical-align: top;\n",
              "    }\n",
              "\n",
              "    .dataframe thead th {\n",
              "        text-align: right;\n",
              "    }\n",
              "</style>\n",
              "<table border=\"1\" class=\"dataframe\">\n",
              "  <thead>\n",
              "    <tr style=\"text-align: right;\">\n",
              "      <th></th>\n",
              "      <th>index</th>\n",
              "      <th>business_code</th>\n",
              "      <th>cust_number</th>\n",
              "      <th>name_customer</th>\n",
              "      <th>clear_date</th>\n",
              "      <th>buisness_year</th>\n",
              "      <th>doc_id</th>\n",
              "      <th>posting_date</th>\n",
              "      <th>document_create_date</th>\n",
              "      <th>document_create_date.1</th>\n",
              "      <th>due_in_date</th>\n",
              "      <th>invoice_currency</th>\n",
              "      <th>document type</th>\n",
              "      <th>posting_id</th>\n",
              "      <th>area_business</th>\n",
              "      <th>total_open_amount</th>\n",
              "      <th>baseline_create_date</th>\n",
              "      <th>cust_payment_terms</th>\n",
              "      <th>invoice_id</th>\n",
              "      <th>ageing</th>\n",
              "      <th>bucket</th>\n",
              "      <th>predicted_date</th>\n",
              "    </tr>\n",
              "  </thead>\n",
              "  <tbody>\n",
              "    <tr>\n",
              "      <th>0</th>\n",
              "      <td>1</td>\n",
              "      <td>U001</td>\n",
              "      <td>0200865666</td>\n",
              "      <td>RESTAU</td>\n",
              "      <td>NaN</td>\n",
              "      <td>2020.0</td>\n",
              "      <td>1.930709e+09</td>\n",
              "      <td>2020-03-26</td>\n",
              "      <td>20200326</td>\n",
              "      <td>20200326</td>\n",
              "      <td>2020-04-15</td>\n",
              "      <td>USD</td>\n",
              "      <td>RV</td>\n",
              "      <td>1.0</td>\n",
              "      <td>NaN</td>\n",
              "      <td>1583.88</td>\n",
              "      <td>20200326.0</td>\n",
              "      <td>NAD1</td>\n",
              "      <td>1.930709e+09</td>\n",
              "      <td>-3 days</td>\n",
              "      <td>&lt;0</td>\n",
              "      <td>2020-04-12</td>\n",
              "    </tr>\n",
              "    <tr>\n",
              "      <th>1</th>\n",
              "      <td>14</td>\n",
              "      <td>U001</td>\n",
              "      <td>0200794332</td>\n",
              "      <td>COST co</td>\n",
              "      <td>NaN</td>\n",
              "      <td>2020.0</td>\n",
              "      <td>1.930718e+09</td>\n",
              "      <td>2020-04-02</td>\n",
              "      <td>20200329</td>\n",
              "      <td>20200402</td>\n",
              "      <td>2020-04-17</td>\n",
              "      <td>USD</td>\n",
              "      <td>RV</td>\n",
              "      <td>1.0</td>\n",
              "      <td>NaN</td>\n",
              "      <td>40455.53</td>\n",
              "      <td>20200402.0</td>\n",
              "      <td>NAAX</td>\n",
              "      <td>1.930718e+09</td>\n",
              "      <td>-4 days</td>\n",
              "      <td>&lt;0</td>\n",
              "      <td>2020-04-13</td>\n",
              "    </tr>\n",
              "    <tr>\n",
              "      <th>2</th>\n",
              "      <td>16</td>\n",
              "      <td>U001</td>\n",
              "      <td>0200769623</td>\n",
              "      <td>WAL-MAR associates</td>\n",
              "      <td>NaN</td>\n",
              "      <td>2020.0</td>\n",
              "      <td>1.930686e+09</td>\n",
              "      <td>2020-03-25</td>\n",
              "      <td>20200324</td>\n",
              "      <td>20200325</td>\n",
              "      <td>2020-04-09</td>\n",
              "      <td>USD</td>\n",
              "      <td>RV</td>\n",
              "      <td>1.0</td>\n",
              "      <td>NaN</td>\n",
              "      <td>267.30</td>\n",
              "      <td>20200325.0</td>\n",
              "      <td>NAH4</td>\n",
              "      <td>1.930686e+09</td>\n",
              "      <td>1 days</td>\n",
              "      <td>1-15</td>\n",
              "      <td>2020-04-10</td>\n",
              "    </tr>\n",
              "    <tr>\n",
              "      <th>3</th>\n",
              "      <td>23</td>\n",
              "      <td>U001</td>\n",
              "      <td>0200769623</td>\n",
              "      <td>WAL-MAR systems</td>\n",
              "      <td>NaN</td>\n",
              "      <td>2020.0</td>\n",
              "      <td>1.930733e+09</td>\n",
              "      <td>2020-04-02</td>\n",
              "      <td>20200403</td>\n",
              "      <td>20200402</td>\n",
              "      <td>2020-04-17</td>\n",
              "      <td>USD</td>\n",
              "      <td>RV</td>\n",
              "      <td>1.0</td>\n",
              "      <td>NaN</td>\n",
              "      <td>6039.48</td>\n",
              "      <td>20200402.0</td>\n",
              "      <td>NAH4</td>\n",
              "      <td>1.930733e+09</td>\n",
              "      <td>1 days</td>\n",
              "      <td>1-15</td>\n",
              "      <td>2020-04-18</td>\n",
              "    </tr>\n",
              "    <tr>\n",
              "      <th>4</th>\n",
              "      <td>26</td>\n",
              "      <td>CA02</td>\n",
              "      <td>0140104440</td>\n",
              "      <td>SO foundation</td>\n",
              "      <td>NaN</td>\n",
              "      <td>2020.0</td>\n",
              "      <td>2.960628e+09</td>\n",
              "      <td>2020-04-16</td>\n",
              "      <td>20200416</td>\n",
              "      <td>20200416</td>\n",
              "      <td>2020-04-26</td>\n",
              "      <td>CAD</td>\n",
              "      <td>RV</td>\n",
              "      <td>1.0</td>\n",
              "      <td>NaN</td>\n",
              "      <td>4974.10</td>\n",
              "      <td>20200416.0</td>\n",
              "      <td>CA10</td>\n",
              "      <td>2.960628e+09</td>\n",
              "      <td>-8 days</td>\n",
              "      <td>&lt;0</td>\n",
              "      <td>2020-04-18</td>\n",
              "    </tr>\n",
              "    <tr>\n",
              "      <th>...</th>\n",
              "      <td>...</td>\n",
              "      <td>...</td>\n",
              "      <td>...</td>\n",
              "      <td>...</td>\n",
              "      <td>...</td>\n",
              "      <td>...</td>\n",
              "      <td>...</td>\n",
              "      <td>...</td>\n",
              "      <td>...</td>\n",
              "      <td>...</td>\n",
              "      <td>...</td>\n",
              "      <td>...</td>\n",
              "      <td>...</td>\n",
              "      <td>...</td>\n",
              "      <td>...</td>\n",
              "      <td>...</td>\n",
              "      <td>...</td>\n",
              "      <td>...</td>\n",
              "      <td>...</td>\n",
              "      <td>...</td>\n",
              "      <td>...</td>\n",
              "      <td>...</td>\n",
              "    </tr>\n",
              "    <tr>\n",
              "      <th>9994</th>\n",
              "      <td>49965</td>\n",
              "      <td>U001</td>\n",
              "      <td>0200759878</td>\n",
              "      <td>SA foundation</td>\n",
              "      <td>NaN</td>\n",
              "      <td>2020.0</td>\n",
              "      <td>1.930740e+09</td>\n",
              "      <td>2020-04-05</td>\n",
              "      <td>20200403</td>\n",
              "      <td>20200405</td>\n",
              "      <td>2020-04-20</td>\n",
              "      <td>USD</td>\n",
              "      <td>RV</td>\n",
              "      <td>1.0</td>\n",
              "      <td>NaN</td>\n",
              "      <td>62802.42</td>\n",
              "      <td>20200405.0</td>\n",
              "      <td>NAH4</td>\n",
              "      <td>1.930740e+09</td>\n",
              "      <td>0 days</td>\n",
              "      <td>&lt;0</td>\n",
              "      <td>2020-04-20</td>\n",
              "    </tr>\n",
              "    <tr>\n",
              "      <th>9995</th>\n",
              "      <td>49972</td>\n",
              "      <td>U001</td>\n",
              "      <td>0200744019</td>\n",
              "      <td>TARG systems</td>\n",
              "      <td>NaN</td>\n",
              "      <td>2020.0</td>\n",
              "      <td>1.930710e+09</td>\n",
              "      <td>2020-03-27</td>\n",
              "      <td>20200327</td>\n",
              "      <td>20200327</td>\n",
              "      <td>2020-04-11</td>\n",
              "      <td>USD</td>\n",
              "      <td>RV</td>\n",
              "      <td>1.0</td>\n",
              "      <td>NaN</td>\n",
              "      <td>32027.19</td>\n",
              "      <td>20200327.0</td>\n",
              "      <td>NAA8</td>\n",
              "      <td>1.930710e+09</td>\n",
              "      <td>1 days</td>\n",
              "      <td>1-15</td>\n",
              "      <td>2020-04-12</td>\n",
              "    </tr>\n",
              "    <tr>\n",
              "      <th>9996</th>\n",
              "      <td>49985</td>\n",
              "      <td>CA02</td>\n",
              "      <td>140106408</td>\n",
              "      <td>WAL-M in</td>\n",
              "      <td>NaN</td>\n",
              "      <td>2020.0</td>\n",
              "      <td>2.960628e+09</td>\n",
              "      <td>2020-04-14</td>\n",
              "      <td>20200414</td>\n",
              "      <td>20200414</td>\n",
              "      <td>2020-04-25</td>\n",
              "      <td>CAD</td>\n",
              "      <td>RV</td>\n",
              "      <td>1.0</td>\n",
              "      <td>NaN</td>\n",
              "      <td>3596.25</td>\n",
              "      <td>20200415.0</td>\n",
              "      <td>CA10</td>\n",
              "      <td>2.960628e+09</td>\n",
              "      <td>-7 days</td>\n",
              "      <td>&lt;0</td>\n",
              "      <td>2020-04-18</td>\n",
              "    </tr>\n",
              "    <tr>\n",
              "      <th>9998</th>\n",
              "      <td>49992</td>\n",
              "      <td>U001</td>\n",
              "      <td>0200783734</td>\n",
              "      <td>FAREW systems</td>\n",
              "      <td>NaN</td>\n",
              "      <td>2020.0</td>\n",
              "      <td>1.930732e+09</td>\n",
              "      <td>2020-04-01</td>\n",
              "      <td>20200402</td>\n",
              "      <td>20200401</td>\n",
              "      <td>2020-04-16</td>\n",
              "      <td>USD</td>\n",
              "      <td>RV</td>\n",
              "      <td>1.0</td>\n",
              "      <td>NaN</td>\n",
              "      <td>43692.68</td>\n",
              "      <td>20200401.0</td>\n",
              "      <td>NAA8</td>\n",
              "      <td>1.930732e+09</td>\n",
              "      <td>0 days</td>\n",
              "      <td>&lt;0</td>\n",
              "      <td>2020-04-16</td>\n",
              "    </tr>\n",
              "    <tr>\n",
              "      <th>9999</th>\n",
              "      <td>49995</td>\n",
              "      <td>U001</td>\n",
              "      <td>0200726979</td>\n",
              "      <td>BJ'S  in</td>\n",
              "      <td>NaN</td>\n",
              "      <td>2020.0</td>\n",
              "      <td>1.930815e+09</td>\n",
              "      <td>2020-04-23</td>\n",
              "      <td>20200422</td>\n",
              "      <td>20200423</td>\n",
              "      <td>2020-05-08</td>\n",
              "      <td>USD</td>\n",
              "      <td>RV</td>\n",
              "      <td>1.0</td>\n",
              "      <td>NaN</td>\n",
              "      <td>2340.11</td>\n",
              "      <td>20200423.0</td>\n",
              "      <td>NAA8</td>\n",
              "      <td>1.930815e+09</td>\n",
              "      <td>-2 days</td>\n",
              "      <td>&lt;0</td>\n",
              "      <td>2020-05-06</td>\n",
              "    </tr>\n",
              "  </tbody>\n",
              "</table>\n",
              "<p>9735 rows × 22 columns</p>\n",
              "</div>"
            ],
            "text/plain": [
              "      index business_code cust_number  ...  ageing bucket  predicted_date\n",
              "0         1          U001  0200865666  ... -3 days     <0      2020-04-12\n",
              "1        14          U001  0200794332  ... -4 days     <0      2020-04-13\n",
              "2        16          U001  0200769623  ...  1 days   1-15      2020-04-10\n",
              "3        23          U001  0200769623  ...  1 days   1-15      2020-04-18\n",
              "4        26          CA02  0140104440  ... -8 days     <0      2020-04-18\n",
              "...     ...           ...         ...  ...     ...    ...             ...\n",
              "9994  49965          U001  0200759878  ...  0 days     <0      2020-04-20\n",
              "9995  49972          U001  0200744019  ...  1 days   1-15      2020-04-12\n",
              "9996  49985          CA02   140106408  ... -7 days     <0      2020-04-18\n",
              "9998  49992          U001  0200783734  ...  0 days     <0      2020-04-16\n",
              "9999  49995          U001  0200726979  ... -2 days     <0      2020-05-06\n",
              "\n",
              "[9735 rows x 22 columns]"
            ]
          },
          "metadata": {
            "tags": []
          },
          "execution_count": 86
        }
      ]
    },
    {
      "cell_type": "code",
      "metadata": {
        "colab": {
          "base_uri": "https://localhost:8080/"
        },
        "id": "ymXsG_MHphSj",
        "outputId": "24f35e37-7cac-4aae-df0f-e4a19eadbf47"
      },
      "source": [
        "temp.isna().sum()"
      ],
      "execution_count": null,
      "outputs": [
        {
          "output_type": "execute_result",
          "data": {
            "text/plain": [
              "index                        0\n",
              "business_code                0\n",
              "cust_number                  0\n",
              "name_customer                0\n",
              "clear_date                9735\n",
              "buisness_year                0\n",
              "doc_id                       0\n",
              "posting_date                 0\n",
              "document_create_date         0\n",
              "document_create_date.1       0\n",
              "due_in_date                  0\n",
              "invoice_currency             0\n",
              "document type                0\n",
              "posting_id                   0\n",
              "area_business             9735\n",
              "total_open_amount            0\n",
              "baseline_create_date         0\n",
              "cust_payment_terms           0\n",
              "invoice_id                   0\n",
              "ageing                       0\n",
              "bucket                       0\n",
              "predicted_date               0\n",
              "dtype: int64"
            ]
          },
          "metadata": {
            "tags": []
          },
          "execution_count": 87
        }
      ]
    },
    {
      "cell_type": "code",
      "metadata": {
        "colab": {
          "base_uri": "https://localhost:8080/"
        },
        "id": "e0gS05LgrYQc",
        "outputId": "141aa7a2-206f-4b72-d1ad-6fb1d9efd622"
      },
      "source": [
        "temp.info()"
      ],
      "execution_count": null,
      "outputs": [
        {
          "output_type": "stream",
          "text": [
            "<class 'pandas.core.frame.DataFrame'>\n",
            "Int64Index: 9735 entries, 0 to 9999\n",
            "Data columns (total 22 columns):\n",
            " #   Column                  Non-Null Count  Dtype          \n",
            "---  ------                  --------------  -----          \n",
            " 0   index                   9735 non-null   int64          \n",
            " 1   business_code           9735 non-null   object         \n",
            " 2   cust_number             9735 non-null   object         \n",
            " 3   name_customer           9735 non-null   object         \n",
            " 4   clear_date              0 non-null      object         \n",
            " 5   buisness_year           9735 non-null   float64        \n",
            " 6   doc_id                  9735 non-null   float64        \n",
            " 7   posting_date            9735 non-null   object         \n",
            " 8   document_create_date    9735 non-null   int64          \n",
            " 9   document_create_date.1  9735 non-null   int64          \n",
            " 10  due_in_date             9735 non-null   datetime64[ns] \n",
            " 11  invoice_currency        9735 non-null   object         \n",
            " 12  document type           9735 non-null   object         \n",
            " 13  posting_id              9735 non-null   float64        \n",
            " 14  area_business           0 non-null      float64        \n",
            " 15  total_open_amount       9735 non-null   float64        \n",
            " 16  baseline_create_date    9735 non-null   float64        \n",
            " 17  cust_payment_terms      9735 non-null   object         \n",
            " 18  invoice_id              9735 non-null   float64        \n",
            " 19  ageing                  9735 non-null   timedelta64[ns]\n",
            " 20  bucket                  9735 non-null   object         \n",
            " 21  predicted_date          9735 non-null   datetime64[ns] \n",
            "dtypes: datetime64[ns](2), float64(7), int64(3), object(9), timedelta64[ns](1)\n",
            "memory usage: 1.7+ MB\n"
          ],
          "name": "stdout"
        }
      ]
    },
    {
      "cell_type": "code",
      "metadata": {
        "id": "xpmThYe0sQ5e"
      },
      "source": [
        "temp['baseline_create_date']= pd.to_datetime(temp['baseline_create_date'],format =\"%Y%m%d\")\n",
        "temp['document_create_date']= pd.to_datetime(temp['document_create_date.1'],format =\"%Y%m%d\")\n",
        "temp['due_in_date']= pd.to_datetime(temp['due_in_date'],format =\"%Y%m%d\")\n",
        "temp['posting_date']= pd.to_datetime(temp['posting_date'],format =\"%Y-%m-%d\")\n",
        "temp['clear_date'] = pd.to_datetime(temp.clear_date)"
      ],
      "execution_count": null,
      "outputs": []
    },
    {
      "cell_type": "code",
      "metadata": {
        "colab": {
          "base_uri": "https://localhost:8080/"
        },
        "id": "nm1gQgfXsoA2",
        "outputId": "1ee59055-86f3-412a-e26d-06d80a80fa92"
      },
      "source": [
        "temp.info()"
      ],
      "execution_count": null,
      "outputs": [
        {
          "output_type": "stream",
          "text": [
            "<class 'pandas.core.frame.DataFrame'>\n",
            "Int64Index: 9735 entries, 0 to 9999\n",
            "Data columns (total 22 columns):\n",
            " #   Column                  Non-Null Count  Dtype          \n",
            "---  ------                  --------------  -----          \n",
            " 0   index                   9735 non-null   int64          \n",
            " 1   business_code           9735 non-null   object         \n",
            " 2   cust_number             9735 non-null   object         \n",
            " 3   name_customer           9735 non-null   object         \n",
            " 4   clear_date              0 non-null      datetime64[ns] \n",
            " 5   buisness_year           9735 non-null   float64        \n",
            " 6   doc_id                  9735 non-null   float64        \n",
            " 7   posting_date            9735 non-null   datetime64[ns] \n",
            " 8   document_create_date    9735 non-null   datetime64[ns] \n",
            " 9   document_create_date.1  9735 non-null   int64          \n",
            " 10  due_in_date             9735 non-null   datetime64[ns] \n",
            " 11  invoice_currency        9735 non-null   object         \n",
            " 12  document type           9735 non-null   object         \n",
            " 13  posting_id              9735 non-null   float64        \n",
            " 14  area_business           0 non-null      float64        \n",
            " 15  total_open_amount       9735 non-null   float64        \n",
            " 16  baseline_create_date    9735 non-null   datetime64[ns] \n",
            " 17  cust_payment_terms      9735 non-null   object         \n",
            " 18  invoice_id              9735 non-null   float64        \n",
            " 19  ageing                  9735 non-null   timedelta64[ns]\n",
            " 20  bucket                  9735 non-null   object         \n",
            " 21  predicted_date          9735 non-null   datetime64[ns] \n",
            "dtypes: datetime64[ns](6), float64(6), int64(2), object(7), timedelta64[ns](1)\n",
            "memory usage: 1.7+ MB\n"
          ],
          "name": "stdout"
        }
      ]
    },
    {
      "cell_type": "code",
      "metadata": {
        "id": "fNgfPPJMsupx"
      },
      "source": [
        "temp.drop(labels=['clear_date','area_business','index'],axis=1,inplace=True)"
      ],
      "execution_count": null,
      "outputs": []
    },
    {
      "cell_type": "code",
      "metadata": {
        "id": "3WBQWvzO7QFY"
      },
      "source": [
        "compression_opts = dict(method='zip',archive_name='out.csv')  \n",
        "temp.to_csv('out.zip', index=False,compression=compression_opts) \n"
      ],
      "execution_count": null,
      "outputs": []
    },
    {
      "cell_type": "code",
      "metadata": {
        "colab": {
          "base_uri": "https://localhost:8080/"
        },
        "id": "pVKV6xmTvObR",
        "outputId": "add4a4df-0a27-41c2-9f10-b8a3d7863379"
      },
      "source": [
        "temp.isna().sum()"
      ],
      "execution_count": null,
      "outputs": [
        {
          "output_type": "execute_result",
          "data": {
            "text/plain": [
              "business_code             0\n",
              "cust_number               0\n",
              "name_customer             0\n",
              "buisness_year             0\n",
              "doc_id                    0\n",
              "posting_date              0\n",
              "document_create_date      0\n",
              "document_create_date.1    0\n",
              "due_in_date               0\n",
              "invoice_currency          0\n",
              "document type             0\n",
              "posting_id                0\n",
              "total_open_amount         0\n",
              "baseline_create_date      0\n",
              "cust_payment_terms        0\n",
              "invoice_id                0\n",
              "ageing                    0\n",
              "bucket                    0\n",
              "predicted_date            0\n",
              "dtype: int64"
            ]
          },
          "metadata": {
            "tags": []
          },
          "execution_count": 93
        }
      ]
    },
    {
      "cell_type": "code",
      "metadata": {
        "id": "cN-Ldh1J0HaF"
      },
      "source": [
        ""
      ],
      "execution_count": null,
      "outputs": []
    }
  ]
}